{
 "cells": [
  {
   "cell_type": "markdown",
   "metadata": {},
   "source": [
    "# Hypotheses Ontology"
   ]
  },
  {
   "cell_type": "code",
   "execution_count": 1,
   "metadata": {},
   "outputs": [
    {
     "name": "stderr",
     "output_type": "stream",
     "text": [
      "* Owlready2 * Warning: optimized Cython parser module 'owlready2_optimized' is not available, defaulting to slower Python implementation\n"
     ]
    }
   ],
   "source": [
    "## Uncomment if you do not have owlrl installed (you should have it installed from the RDFS tutorial)\n",
    "import sys\n",
    "# !{sys.executable} -m pip install rdflib  owlready2 pandas\n",
    "\n",
    "import pandas as pd\n",
    "from rdflib.namespace import DC, FOAF, NamespaceManager\n",
    "\n",
    "from owlready2 import *\n",
    "from rdflib import Graph, Literal, Namespace, RDF, URIRef, OWL, RDFS\n",
    "\n",
    "# documentation : https://pythonhosted.org/Owlready2/"
   ]
  },
  {
   "cell_type": "markdown",
   "metadata": {},
   "source": [
    "Loading and creating ontologies and namespaces."
   ]
  },
  {
   "cell_type": "code",
   "execution_count": 5,
   "metadata": {},
   "outputs": [],
   "source": [
    "# TODO: Change that\n",
    "hypothesis_uri = URIRef(\"http://test.org/myonto.owl#\")\n",
    "hypothesis_namespace = Namespace(hypothesis_uri)\n",
    "hypothesis_ontology = get_ontology(hypothesis_uri)\n",
    "\n",
    "dct_uri = URIRef(\"http://purl.org/dc/terms/\")\n",
    "dct_namespace = Namespace(dct_uri)\n",
    "# File from webpage did not work for me -- I downloaded it.\n",
    "dct_ontology = get_ontology(\"dublin_core_terms.rdf\").load()\n",
    "\n",
    "frbr_uri = URIRef(\"http://purl.org/vocab/frbr/core#\")\n",
    "frbr_namespace = Namespace(frbr_uri)\n",
    "# File from webpage did not wrk for me -- I downloaded it.\n",
    "frbr_ontology = get_ontology(\"./frbr-core-20050810.rdf\").load()\n",
    "\n",
    "owl_uri = URIRef(\"http://www.w3.org/2002/07/owl#\")\n",
    "owl_namespace = Namespace(owl_uri)\n",
    "\n",
    "fabio_uri = URIRef(\"http://purl.org/spar/fabio/\")\n",
    "fabio_namespace = Namespace(fabio_uri)\n",
    "\n",
    "prov_uri = URIRef(\"http://www.w3.org/ns/prov#\")\n",
    "prov_namespace = Namespace(prov_uri)\n",
    "# File from webpage did not work for me -- I downloaded it.\n",
    "prov_ontology = get_ontology(\"prov_ontology.rdf\").load()\n",
    "\n",
    "\n",
    "g = Graph()\n",
    "g.parse(\"cord19-nekg-dataset-metadata.ttl\", format=\"ttl\")\n",
    "\n",
    "cord19_nekg_dataset_metadata_file = open(\"cord19-nekg-dataset-metadata.rdf\", \"w+\")\n",
    "cord19_nekg_dataset_metadata_file.write(g.serialize(format='xml').decode())\n",
    "cord19_nekg_dataset_metadata_file.close()\n",
    "\n",
    "covid_uri = URIRef(\"http://ns.inria.fr/covid19/\")\n",
    "covid_namespace = Namespace(covid_uri)\n",
    "covid_ontology = get_ontology(\"cord19-nekg-dataset-metadata.rdf\").load()\n",
    "\n",
    "covidpr_uri = URIRef(\"http://ns.inria.fr/covid19/property\")\n",
    "covidpr_namespace = Namespace(covidpr_uri)"
   ]
  },
  {
   "cell_type": "markdown",
   "metadata": {},
   "source": [
    "# Ontology classes and properties"
   ]
  },
  {
   "cell_type": "markdown",
   "metadata": {},
   "source": [
    "## 1. Classes"
   ]
  },
  {
   "cell_type": "code",
   "execution_count": 6,
   "metadata": {
    "scrolled": true
   },
   "outputs": [],
   "source": [
    "with hypothesis_ontology:\n",
    "    class Hypothesis(Thing):\n",
    "        label = \"Hypothesis\"\n",
    "        comment = \"Paper's hypothesis.\"\n",
    "    #   Will include dct:Title, bibo:doi, bibo:pmid, fabio:hasPubMedId, fabio:hasPubMedCentralId, schema:url, foaf:sha1\n",
    "    #   Will link with fabio:Abstract by oa:hasSource (TODO: change in graph)\n",
    "\n",
    "    # ConfidenceScore will be linked by owl:dataProperty which links with simple datatypes, not entities, so class is not needed\n",
    "    # class ConfidenceScore(Thing):\n",
    "    #     namespace = hypothesis_ontology\n",
    "\n",
    "    class NamedEntity(Thing, prov_ontology.Entity):\n",
    "        label = \"Named Entity\"\n",
    "        comment = \"Named entity included in the paper's abstract.\"\n",
    "    #   Will contain dct:Subject, rdf:value, oa:hasBody\n",
    "    #   TODO: how do we name these NameEntity-ies?\n",
    "\n",
    "    class NamedEntitySet(Thing):\n",
    "        label = \"Named Entity set\"\n",
    "        comment = \"Set of entities included in the paper's abstract.\""
   ]
  },
  {
   "cell_type": "markdown",
   "metadata": {},
   "source": [
    "## 2. Properties"
   ]
  },
  {
   "cell_type": "code",
   "execution_count": 7,
   "metadata": {},
   "outputs": [],
   "source": [
    "with hypothesis_ontology:\n",
    "    class containsEntity(ObjectProperty, FunctionalProperty, Hypothesis >> NamedEntitySet):\n",
    "        label = \"Resource representing a hypothesis's entity set.\"\n",
    "        comment = \"Links hypothesis with its entity set.\"\n",
    "        \n",
    "    class hasHypothesis(ObjectProperty, list(frbr_ontology.properties())[45], FunctionalProperty):\n",
    "        label = \"Resource representing a document's hypothesis entity.\"\n",
    "        comment = \"Links document with its hypothesis entity.\"\n",
    "        range = [Hypothesis,]\n",
    "\n",
    "    class includes(ObjectProperty, NamedEntitySet >> NamedEntity):\n",
    "        label = \"Resource representing a Named Entity in the set.\"\n",
    "        comment = \"Links Named Entity set with its elements.\""
   ]
  },
  {
   "cell_type": "markdown",
   "metadata": {},
   "source": [
    "## 2.5. Restrictions"
   ]
  },
  {
   "cell_type": "code",
   "execution_count": 9,
   "metadata": {},
   "outputs": [],
   "source": [
    "with hypothesis_ontology:\n",
    "    NamedEntitySet.equivalent_to = [includes.min(1, NamedEntity), ]\n",
    "    Hypothesis.equivalent_to = [containsEntity.exactly(1, NamedEntitySet),]"
   ]
  },
  {
   "cell_type": "markdown",
   "metadata": {},
   "source": [
    "## 3. Graph building"
   ]
  },
  {
   "cell_type": "code",
   "execution_count": 10,
   "metadata": {},
   "outputs": [
    {
     "data": {
      "text/plain": [
       "<Graph identifier=Nbde3f6e034e04239990d915dab1894da (<class 'rdflib.graph.Graph'>)>"
      ]
     },
     "execution_count": 10,
     "metadata": {},
     "output_type": "execute_result"
    }
   ],
   "source": [
    "hypothesis_ontology.save(file = \"hypothesis_ontology.nt\", format = \"ntriples\") # also supported ntriples\n",
    "g = Graph()\n",
    "g.bind(\"frbr\", frbr_namespace)\n",
    "g.bind(\"owl\", owl_namespace)\n",
    "g.bind(\"hypothesis\", hypothesis_namespace)\n",
    "g.bind(\"fabio\", fabio_namespace)\n",
    "g.parse(\"hypothesis_ontology.nt\", format=\"nt\")"
   ]
  },
  {
   "cell_type": "markdown",
   "metadata": {},
   "source": [
    "## 4. Additional things added to the graph."
   ]
  },
  {
   "cell_type": "code",
   "execution_count": 11,
   "metadata": {
    "scrolled": true
   },
   "outputs": [],
   "source": [
    "# g.add((hypothesis_namespace.hasHypothesis, RDFS.subPropertyOf, frbr_namespace.part))\n",
    "# g.add((hypothesis_namespace.Abstract, RDFS.subClassOf, fabio_namespace.Work))\n"
   ]
  },
  {
   "cell_type": "markdown",
   "metadata": {},
   "source": [
    "## 5. Saving the graph"
   ]
  },
  {
   "cell_type": "code",
   "execution_count": 13,
   "metadata": {
    "scrolled": true
   },
   "outputs": [],
   "source": [
    "hypothesis_owl_file = open(\"hypothesis_owl.ttl\", \"w+\")\n",
    "hypothesis_owl_file.write(g.serialize(format='turtle').decode())\n",
    "hypothesis_owl_file.close()"
   ]
  },
  {
   "cell_type": "code",
   "execution_count": null,
   "metadata": {},
   "outputs": [],
   "source": []
  }
 ],
 "metadata": {
  "kernelspec": {
   "display_name": "Python 3",
   "language": "python",
   "name": "python3"
  },
  "language_info": {
   "codemirror_mode": {
    "name": "ipython",
    "version": 3
   },
   "file_extension": ".py",
   "mimetype": "text/x-python",
   "name": "python",
   "nbconvert_exporter": "python",
   "pygments_lexer": "ipython3",
   "version": "3.7.4"
  }
 },
 "nbformat": 4,
 "nbformat_minor": 2
}
