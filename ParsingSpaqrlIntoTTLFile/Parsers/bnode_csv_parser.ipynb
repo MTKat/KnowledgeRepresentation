{
 "cells": [
  {
   "cell_type": "code",
   "execution_count": 1,
   "metadata": {},
   "outputs": [],
   "source": [
    "# Code Based On: https://github.com/r4isstatic/csv-to-ttl/blob/master/uber.py\n",
    "import csv\n",
    "from rdflib import URIRef, Literal, Namespace, Graph\n",
    "from rdflib.namespace import RDF, RDFS, XSD\n",
    "import uuid"
   ]
  },
  {
   "cell_type": "code",
   "execution_count": 2,
   "metadata": {},
   "outputs": [],
   "source": [
    "bnode_g = Graph()"
   ]
  },
  {
   "cell_type": "code",
   "execution_count": 3,
   "metadata": {},
   "outputs": [],
   "source": [
    "# namespaces\n",
    "def create_namespace(graph, namespace, prefix):\n",
    "\n",
    "    ns = Namespace(namespace)\n",
    "    graph.namespace_manager.bind(prefix, namespace)\n",
    "    \n",
    "    return ns\n",
    "\n",
    "\n",
    "hyp_namespace = create_namespace(bnode_g, \"http://example.org/hypothesis_ontology/\", 'hyp')\n",
    "oa_namespace = create_namespace(bnode_g, \"http://www.w3.org/ns/oa#\", 'oa')\n",
    "covidpr_namespace = create_namespace(bnode_g, \"http://ns.inria.fr/covid19/property/\", 'covidpr')\n",
    "dct_namespace = create_namespace(bnode_g, \"http://purl.org/dc/terms/\", 'dct')\n",
    "prov_namespace = create_namespace(bnode_g, 'http://www.w3.org/TR/prov-o/', 'prov')\n",
    "\n",
    "# hyp_namespace = Namespace(\"http://example.org/hypothesis_ontology/\")\n",
    "# bnode_g.namespace_manager.bind('hyp', hyp_namespace)\n",
    "\n",
    "# oa_namespace = Namespace(\"http://www.w3.org/ns/oa#\")\n",
    "# bnode_g.namespace_manager.bind('oa', oa_namespace)\n",
    "\n",
    "# covidpr_namespace = Namespace(\"http://ns.inria.fr/covid19/property/\")\n",
    "# bnode_g.namespace_manager.bind(\"covidpr\", covidpr_namespace)\n",
    "\n",
    "# dct_namespace = Namespace(\"http://purl.org/dc/terms/\")\n",
    "# bnode_g.bind(\"dct\", dct_namespace)\n",
    "\n",
    "# prov_namespace = Namespace('http://www.w3.org/TR/prov-o/')\n",
    "# bnode_g.bind(\"dct\", dct_namespace)"
   ]
  },
  {
   "cell_type": "code",
   "execution_count": 4,
   "metadata": {},
   "outputs": [],
   "source": [
    "ifile = open('./bnode_new1.csv')\n",
    "reader = csv.reader(ifile)"
   ]
  },
  {
   "cell_type": "code",
   "execution_count": 5,
   "metadata": {},
   "outputs": [],
   "source": [
    "rownum = 0\n",
    "for row in reader:\n",
    "    if rownum == 0: \n",
    "        pass\n",
    "    else:\n",
    "        unique_id = str(uuid.uuid4())\n",
    "        unique_NE_uri = URIRef(hyp_namespace + unique_id + '#NamedEntity')\n",
    "        bnode_g.add( (unique_NE_uri, oa_namespace.hasSource, hyp_namespace[row[3]]) )\n",
    "        bnode_g.add( (unique_NE_uri, RDF.type, prov_namespace.Entity) )\n",
    "        bnode_g.add( (unique_NE_uri, RDF.type, oa_namespace.Annotation) )\n",
    "        bnode_g.add( (unique_NE_uri, oa_namespace.exact, Literal(row[1])) )\n",
    "        bnode_g.add( (unique_NE_uri, oa_namespace.hasBody, URIRef(row[5])) )\n",
    "        bnode_g.add( (unique_NE_uri, covidpr_namespace.confidence, Literal(row[4], datatype=XSD.decimal)) )\n",
    "        subjects = row[2].split(',')\n",
    "        for subj in subjects:\n",
    "            bnode_g.add( (unique_NE_uri, dct_namespace.subject, Literal(subj)) )\n",
    "    rownum += 1 \n",
    "\n",
    "g = bnode_g.serialize('../Output-Graphs/bnode_test.ttl', format='turtle')\n",
    "\n",
    "ifile.close()"
   ]
  },
  {
   "cell_type": "code",
   "execution_count": 6,
   "metadata": {},
   "outputs": [
    {
     "name": "stderr",
     "output_type": "stream",
     "text": [
      "IOPub data rate exceeded.\n",
      "The notebook server will temporarily stop sending output\n",
      "to the client in order to avoid crashing it.\n",
      "To change this limit, set the config variable\n",
      "`--NotebookApp.iopub_data_rate_limit`.\n",
      "\n",
      "Current values:\n",
      "NotebookApp.iopub_data_rate_limit=1000000.0 (bytes/sec)\n",
      "NotebookApp.rate_limit_window=3.0 (secs)\n",
      "\n"
     ]
    }
   ],
   "source": [
    "import pprint\n",
    "print(bnode_g.serialize(format='turtle'))"
   ]
  },
  {
   "cell_type": "code",
   "execution_count": null,
   "metadata": {},
   "outputs": [],
   "source": []
  }
 ],
 "metadata": {
  "kernelspec": {
   "display_name": "Python 3",
   "language": "python",
   "name": "python3"
  },
  "language_info": {
   "codemirror_mode": {
    "name": "ipython",
    "version": 3
   },
   "file_extension": ".py",
   "mimetype": "text/x-python",
   "name": "python",
   "nbconvert_exporter": "python",
   "pygments_lexer": "ipython3",
   "version": "3.7.6"
  }
 },
 "nbformat": 4,
 "nbformat_minor": 4
}
