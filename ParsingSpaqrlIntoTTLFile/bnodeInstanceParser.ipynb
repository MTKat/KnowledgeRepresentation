{
 "cells": [
  {
   "cell_type": "code",
   "execution_count": 1,
   "metadata": {},
   "outputs": [],
   "source": [
    "from rdflib import Graph, ConjunctiveGraph, Literal, BNode, Namespace, RDF, URIRef"
   ]
  },
  {
   "cell_type": "code",
   "execution_count": 2,
   "metadata": {},
   "outputs": [],
   "source": [
    "bnode_instances= \"./Input/bnodes_new.ttl\"\n",
    "\n",
    "bnode_graph = Graph()\n",
    "bnode_graph.parse(bnode_instances, format='turtle')\n",
    "\n",
    "f = open(\"bnode_graph_raw_new.nt\", \"w\")\n",
    "f.write(bnode_graph.serialize(format='nt').decode())\n",
    "f.close()"
   ]
  },
  {
   "cell_type": "code",
   "execution_count": 3,
   "metadata": {
    "scrolled": true
   },
   "outputs": [],
   "source": [
    "g = Graph()\n",
    "g.parse(\"bnode_graph_raw_new.nt\", format=\"nt\")\n",
    "\n",
    "hyp_uri = URIRef(\"http://example.org/hypothesis_ontology/\")\n",
    "hyp_namespace = Namespace(hyp_uri)\n",
    "g.bind(\"hyp\", hyp_namespace)\n",
    "\n",
    "oa_uri = URIRef(\"http://www.w3.org/ns/oa#\")\n",
    "oa_namespace = Namespace(oa_uri)\n",
    "g.bind(\"oa\", oa_namespace)\n",
    "\n",
    "covidpr_uri = URIRef(\"http://ns.inria.fr/covid19/property/\")\n",
    "covidpr_namespace = Namespace(covidpr_uri)\n",
    "g.bind(\"covidpr\", covidpr_namespace)\n",
    "\n",
    "dct_uri = URIRef(\"http://purl.org/dc/terms/\")\n",
    "dct_namespace = Namespace(dct_uri)\n",
    "g.bind(\"dct\", dct_namespace)"
   ]
  },
  {
   "cell_type": "code",
   "execution_count": 4,
   "metadata": {},
   "outputs": [],
   "source": [
    "f = open(\"bnode_graph_new.ttl\", \"w\")\n",
    "f.write(g.serialize(format='turtle').decode('utf-8').encode('cp850','replace').decode('cp850'))\n",
    "f.close()"
   ]
  },
  {
   "cell_type": "code",
   "execution_count": null,
   "metadata": {},
   "outputs": [],
   "source": []
  }
 ],
 "metadata": {
  "kernelspec": {
   "display_name": "Python 3",
   "language": "python",
   "name": "python3"
  },
  "language_info": {
   "codemirror_mode": {
    "name": "ipython",
    "version": 3
   },
   "file_extension": ".py",
   "mimetype": "text/x-python",
   "name": "python",
   "nbconvert_exporter": "python",
   "pygments_lexer": "ipython3",
   "version": "3.7.6"
  }
 },
 "nbformat": 4,
 "nbformat_minor": 4
}
