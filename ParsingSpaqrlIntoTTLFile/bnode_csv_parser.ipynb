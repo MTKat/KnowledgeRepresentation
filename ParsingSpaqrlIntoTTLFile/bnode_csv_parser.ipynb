{
 "cells": [
  {
   "cell_type": "code",
   "execution_count": 1,
   "metadata": {},
   "outputs": [],
   "source": [
    "# Code Based On: https://github.com/r4isstatic/csv-to-ttl/blob/master/uber.py\n",
    "import csv\n",
    "from rdflib import URIRef, Literal, Namespace, Graph\n",
    "from rdflib.namespace import RDF, RDFS\n",
    "import uuid"
   ]
  },
  {
   "cell_type": "code",
   "execution_count": 2,
   "metadata": {},
   "outputs": [],
   "source": [
    "bnode_g = Graph()"
   ]
  },
  {
   "cell_type": "code",
   "execution_count": 3,
   "metadata": {},
   "outputs": [],
   "source": [
    "# namespaces\n",
    "hyp_namespace = Namespace(\"http://example.org/hypothesis_ontology/\")\n",
    "bnode_g.namespace_manager.bind('hyp', hyp_namespace)\n",
    "\n",
    "oa_namespace = Namespace(\"http://www.w3.org/ns/oa#\")\n",
    "bnode_g.namespace_manager.bind('oa', oa_namespace)\n",
    "\n",
    "covidpr_namespace = Namespace(\"http://ns.inria.fr/covid19/property/\")\n",
    "bnode_g.namespace_manager.bind(\"covidpr\", covidpr_namespace)\n",
    "\n",
    "dct_namespace = Namespace(\"http://purl.org/dc/terms/\")\n",
    "bnode_g.bind(\"dct\", dct_namespace)"
   ]
  },
  {
   "cell_type": "code",
   "execution_count": 5,
   "metadata": {},
   "outputs": [],
   "source": [
    "ifile = open('./Input/bnode_new1.csv', 'rt',encoding=\"utf8\")\n",
    "reader = csv.reader(ifile)"
   ]
  },
  {
   "cell_type": "code",
   "execution_count": 6,
   "metadata": {},
   "outputs": [],
   "source": [
    "rownum = 0\n",
    "for row in reader:\n",
    "    if rownum == 0: \n",
    "        pass\n",
    "    else:\n",
    "        concept1 = URIRef(cnc[row[1][3:]])\n",
    "        concept2 = URIRef(cnc[row[4][3:]])\n",
    "        relation = URIRef(cnr[row[2]])\n",
    "        relation_id = URIRef(cn_namespace+ '/a/[/r/' + row[2] + '/,' + row[1] + '/,' + row[4] + '/]')\n",
    "            surface_text = row[5]\n",
    "            weight = row[6]\n",
    "            cn_graph.add( (concept1, dc_namespace.isRequiredBy, relation_id) )\n",
    "            cn_graph.add( (concept2, dc_namespace.isRequiredBy, relation_id) )\n",
    "            cn_graph.add( (relation, dc_namespace.isRequiredBy, relation_id) )\n",
    "            cn_graph.add( (relation_id, RDF.value, Literal(surface_text)) )\n",
    "            cn_graph.add( (relation_id, wi.evidence, Literal(weight, datatype=XSD.decimal)) )\n",
    "            cn_graph.add( (concept1, relation, concept2) ) \n",
    "        rownum += 1 \n",
    "    ifile.close()\n",
    "\n",
    "h = datasetGraph.serialize('HypothesisKeywordInstances.ttl', format='turtle')\n",
    "\n",
    "ifile.close()"
   ]
  },
  {
   "cell_type": "code",
   "execution_count": null,
   "metadata": {},
   "outputs": [],
   "source": []
  }
 ],
 "metadata": {
  "kernelspec": {
   "display_name": "Python 3",
   "language": "python",
   "name": "python3"
  },
  "language_info": {
   "codemirror_mode": {
    "name": "ipython",
    "version": 3
   },
   "file_extension": ".py",
   "mimetype": "text/x-python",
   "name": "python",
   "nbconvert_exporter": "python",
   "pygments_lexer": "ipython3",
   "version": "3.7.6"
  }
 },
 "nbformat": 4,
 "nbformat_minor": 4
}
