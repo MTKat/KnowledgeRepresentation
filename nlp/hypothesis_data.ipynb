{
 "cells": [
  {
   "cell_type": "code",
   "execution_count": 31,
   "metadata": {},
   "outputs": [],
   "source": [
    "import pandas as pd\n",
    "import spacy\n",
    "nlp = spacy.load('en_core_web_sm') \n",
    "\n",
    "from spacy.matcher import Matcher \n",
    "from spacy.tokens import Span \n",
    "from spacy.tokenizer import Tokenizer\n",
    "from spacy.util import compile_infix_regex"
   ]
  },
  {
   "cell_type": "code",
   "execution_count": 32,
   "metadata": {},
   "outputs": [],
   "source": [
    "# QUERY API: https://krr.triply.cc/annadg/-/queries/Abstract-Data-Query/1\n",
    "data = pd.read_csv('entityQueryResults.csv')"
   ]
  },
  {
   "cell_type": "code",
   "execution_count": 33,
   "metadata": {},
   "outputs": [
    {
     "data": {
      "text/html": [
       "<div>\n",
       "<style scoped>\n",
       "    .dataframe tbody tr th:only-of-type {\n",
       "        vertical-align: middle;\n",
       "    }\n",
       "\n",
       "    .dataframe tbody tr th {\n",
       "        vertical-align: top;\n",
       "    }\n",
       "\n",
       "    .dataframe thead th {\n",
       "        text-align: right;\n",
       "    }\n",
       "</style>\n",
       "<table border=\"1\" class=\"dataframe\">\n",
       "  <thead>\n",
       "    <tr style=\"text-align: right;\">\n",
       "      <th></th>\n",
       "      <th>paper</th>\n",
       "      <th>new_id</th>\n",
       "      <th>article_types</th>\n",
       "      <th>pm_central_id</th>\n",
       "      <th>abstract</th>\n",
       "      <th>value</th>\n",
       "      <th>abstract_entities</th>\n",
       "    </tr>\n",
       "  </thead>\n",
       "  <tbody>\n",
       "    <tr>\n",
       "      <th>0</th>\n",
       "      <td>http://ns.inria.fr/covid19/2b244041ab6f2ab167b...</td>\n",
       "      <td>http://example.org/our_ontology/PMC4451521#Hyp...</td>\n",
       "      <td>http://purl.org/ontology/bibo/AcademicArticle,...</td>\n",
       "      <td>PMC4451521</td>\n",
       "      <td>http://ns.inria.fr/covid19/2b244041ab6f2ab167b...</td>\n",
       "      <td>BACKGROUND: The current standard care therapy ...</td>\n",
       "      <td>https://krr.triply.cc/.well-known/genid/1a8e54...</td>\n",
       "    </tr>\n",
       "    <tr>\n",
       "      <th>1</th>\n",
       "      <td>http://ns.inria.fr/covid19/ee091049684ecee3ab3...</td>\n",
       "      <td>http://example.org/our_ontology/PMC4171353#Hyp...</td>\n",
       "      <td>http://purl.org/ontology/bibo/AcademicArticle,...</td>\n",
       "      <td>PMC4171353</td>\n",
       "      <td>http://ns.inria.fr/covid19/ee091049684ecee3ab3...</td>\n",
       "      <td>Abstract Rabies virus (RABV) is a neurotropic ...</td>\n",
       "      <td>https://krr.triply.cc/.well-known/genid/0c5272...</td>\n",
       "    </tr>\n",
       "    <tr>\n",
       "      <th>2</th>\n",
       "      <td>http://ns.inria.fr/covid19/52c813a9ed6582f44ae...</td>\n",
       "      <td>http://example.org/our_ontology/PMC3653767#Hyp...</td>\n",
       "      <td>http://purl.org/ontology/bibo/AcademicArticle,...</td>\n",
       "      <td>PMC3653767</td>\n",
       "      <td>http://ns.inria.fr/covid19/52c813a9ed6582f44ae...</td>\n",
       "      <td>BACKGROUND: The genetic element s2m seems to r...</td>\n",
       "      <td>https://krr.triply.cc/.well-known/genid/04f2a6...</td>\n",
       "    </tr>\n",
       "    <tr>\n",
       "      <th>3</th>\n",
       "      <td>http://ns.inria.fr/covid19/0b22db40e9e78fb29f6...</td>\n",
       "      <td>http://example.org/our_ontology/PMC3937728#Hyp...</td>\n",
       "      <td>http://purl.org/ontology/bibo/AcademicArticle,...</td>\n",
       "      <td>PMC3937728</td>\n",
       "      <td>http://ns.inria.fr/covid19/0b22db40e9e78fb29f6...</td>\n",
       "      <td>Prior studies of clay–virus interactions have ...</td>\n",
       "      <td>https://krr.triply.cc/.well-known/genid/17395a...</td>\n",
       "    </tr>\n",
       "    <tr>\n",
       "      <th>4</th>\n",
       "      <td>http://ns.inria.fr/covid19/71788b8e64a665f6208...</td>\n",
       "      <td>http://example.org/our_ontology/PMC7087777#Hyp...</td>\n",
       "      <td>http://purl.org/ontology/bibo/AcademicArticle,...</td>\n",
       "      <td>PMC7087777</td>\n",
       "      <td>http://ns.inria.fr/covid19/71788b8e64a665f6208...</td>\n",
       "      <td>Following the SARS outbreak, extensive surveil...</td>\n",
       "      <td>https://krr.triply.cc/.well-known/genid/012736...</td>\n",
       "    </tr>\n",
       "    <tr>\n",
       "      <th>...</th>\n",
       "      <td>...</td>\n",
       "      <td>...</td>\n",
       "      <td>...</td>\n",
       "      <td>...</td>\n",
       "      <td>...</td>\n",
       "      <td>...</td>\n",
       "      <td>...</td>\n",
       "    </tr>\n",
       "    <tr>\n",
       "      <th>547</th>\n",
       "      <td>http://ns.inria.fr/covid19/097b9b4ada3e89942ea...</td>\n",
       "      <td>http://example.org/our_ontology/PMC6884901#Hyp...</td>\n",
       "      <td>http://purl.org/ontology/bibo/AcademicArticle,...</td>\n",
       "      <td>PMC6884901</td>\n",
       "      <td>http://ns.inria.fr/covid19/097b9b4ada3e89942ea...</td>\n",
       "      <td>Vitamin A (VA) has pleiotropic effects on the ...</td>\n",
       "      <td>https://krr.triply.cc/.well-known/genid/093a08...</td>\n",
       "    </tr>\n",
       "    <tr>\n",
       "      <th>548</th>\n",
       "      <td>http://ns.inria.fr/covid19/5f8c204d73feaf62ba6...</td>\n",
       "      <td>http://example.org/our_ontology/PMC4464075#Hyp...</td>\n",
       "      <td>http://purl.org/ontology/bibo/AcademicArticle,...</td>\n",
       "      <td>PMC4464075</td>\n",
       "      <td>http://ns.inria.fr/covid19/5f8c204d73feaf62ba6...</td>\n",
       "      <td>Dietary fats and sodium are both palatable and...</td>\n",
       "      <td>https://krr.triply.cc/.well-known/genid/003a90...</td>\n",
       "    </tr>\n",
       "    <tr>\n",
       "      <th>549</th>\n",
       "      <td>http://ns.inria.fr/covid19/845b2c4662c9d7db919...</td>\n",
       "      <td>http://example.org/our_ontology/PMC6211748#Hyp...</td>\n",
       "      <td>http://purl.org/ontology/bibo/AcademicArticle,...</td>\n",
       "      <td>PMC6211748</td>\n",
       "      <td>http://ns.inria.fr/covid19/845b2c4662c9d7db919...</td>\n",
       "      <td>RNA viruses are the only known RNA-protein (RN...</td>\n",
       "      <td>https://krr.triply.cc/.well-known/genid/055146...</td>\n",
       "    </tr>\n",
       "    <tr>\n",
       "      <th>550</th>\n",
       "      <td>http://ns.inria.fr/covid19/87b2f2205b9dea38eea...</td>\n",
       "      <td>http://example.org/our_ontology/PMC4871871#Hyp...</td>\n",
       "      <td>http://purl.org/ontology/bibo/AcademicArticle,...</td>\n",
       "      <td>PMC4871871</td>\n",
       "      <td>http://ns.inria.fr/covid19/87b2f2205b9dea38eea...</td>\n",
       "      <td>Rabies remains a major public health concern i...</td>\n",
       "      <td>https://krr.triply.cc/.well-known/genid/00457e...</td>\n",
       "    </tr>\n",
       "    <tr>\n",
       "      <th>551</th>\n",
       "      <td>http://ns.inria.fr/covid19/9f9e925d9999ab39745...</td>\n",
       "      <td>http://example.org/our_ontology/PMC2567993#Hyp...</td>\n",
       "      <td>http://purl.org/ontology/bibo/AcademicArticle,...</td>\n",
       "      <td>PMC2567993</td>\n",
       "      <td>http://ns.inria.fr/covid19/9f9e925d9999ab39745...</td>\n",
       "      <td>BACKGROUND: Female endoparasitic ichneumonid w...</td>\n",
       "      <td>https://krr.triply.cc/.well-known/genid/14e355...</td>\n",
       "    </tr>\n",
       "  </tbody>\n",
       "</table>\n",
       "<p>552 rows × 7 columns</p>\n",
       "</div>"
      ],
      "text/plain": [
       "                                                 paper  \\\n",
       "0    http://ns.inria.fr/covid19/2b244041ab6f2ab167b...   \n",
       "1    http://ns.inria.fr/covid19/ee091049684ecee3ab3...   \n",
       "2    http://ns.inria.fr/covid19/52c813a9ed6582f44ae...   \n",
       "3    http://ns.inria.fr/covid19/0b22db40e9e78fb29f6...   \n",
       "4    http://ns.inria.fr/covid19/71788b8e64a665f6208...   \n",
       "..                                                 ...   \n",
       "547  http://ns.inria.fr/covid19/097b9b4ada3e89942ea...   \n",
       "548  http://ns.inria.fr/covid19/5f8c204d73feaf62ba6...   \n",
       "549  http://ns.inria.fr/covid19/845b2c4662c9d7db919...   \n",
       "550  http://ns.inria.fr/covid19/87b2f2205b9dea38eea...   \n",
       "551  http://ns.inria.fr/covid19/9f9e925d9999ab39745...   \n",
       "\n",
       "                                                new_id  \\\n",
       "0    http://example.org/our_ontology/PMC4451521#Hyp...   \n",
       "1    http://example.org/our_ontology/PMC4171353#Hyp...   \n",
       "2    http://example.org/our_ontology/PMC3653767#Hyp...   \n",
       "3    http://example.org/our_ontology/PMC3937728#Hyp...   \n",
       "4    http://example.org/our_ontology/PMC7087777#Hyp...   \n",
       "..                                                 ...   \n",
       "547  http://example.org/our_ontology/PMC6884901#Hyp...   \n",
       "548  http://example.org/our_ontology/PMC4464075#Hyp...   \n",
       "549  http://example.org/our_ontology/PMC6211748#Hyp...   \n",
       "550  http://example.org/our_ontology/PMC4871871#Hyp...   \n",
       "551  http://example.org/our_ontology/PMC2567993#Hyp...   \n",
       "\n",
       "                                         article_types pm_central_id  \\\n",
       "0    http://purl.org/ontology/bibo/AcademicArticle,...    PMC4451521   \n",
       "1    http://purl.org/ontology/bibo/AcademicArticle,...    PMC4171353   \n",
       "2    http://purl.org/ontology/bibo/AcademicArticle,...    PMC3653767   \n",
       "3    http://purl.org/ontology/bibo/AcademicArticle,...    PMC3937728   \n",
       "4    http://purl.org/ontology/bibo/AcademicArticle,...    PMC7087777   \n",
       "..                                                 ...           ...   \n",
       "547  http://purl.org/ontology/bibo/AcademicArticle,...    PMC6884901   \n",
       "548  http://purl.org/ontology/bibo/AcademicArticle,...    PMC4464075   \n",
       "549  http://purl.org/ontology/bibo/AcademicArticle,...    PMC6211748   \n",
       "550  http://purl.org/ontology/bibo/AcademicArticle,...    PMC4871871   \n",
       "551  http://purl.org/ontology/bibo/AcademicArticle,...    PMC2567993   \n",
       "\n",
       "                                              abstract  \\\n",
       "0    http://ns.inria.fr/covid19/2b244041ab6f2ab167b...   \n",
       "1    http://ns.inria.fr/covid19/ee091049684ecee3ab3...   \n",
       "2    http://ns.inria.fr/covid19/52c813a9ed6582f44ae...   \n",
       "3    http://ns.inria.fr/covid19/0b22db40e9e78fb29f6...   \n",
       "4    http://ns.inria.fr/covid19/71788b8e64a665f6208...   \n",
       "..                                                 ...   \n",
       "547  http://ns.inria.fr/covid19/097b9b4ada3e89942ea...   \n",
       "548  http://ns.inria.fr/covid19/5f8c204d73feaf62ba6...   \n",
       "549  http://ns.inria.fr/covid19/845b2c4662c9d7db919...   \n",
       "550  http://ns.inria.fr/covid19/87b2f2205b9dea38eea...   \n",
       "551  http://ns.inria.fr/covid19/9f9e925d9999ab39745...   \n",
       "\n",
       "                                                 value  \\\n",
       "0    BACKGROUND: The current standard care therapy ...   \n",
       "1    Abstract Rabies virus (RABV) is a neurotropic ...   \n",
       "2    BACKGROUND: The genetic element s2m seems to r...   \n",
       "3    Prior studies of clay–virus interactions have ...   \n",
       "4    Following the SARS outbreak, extensive surveil...   \n",
       "..                                                 ...   \n",
       "547  Vitamin A (VA) has pleiotropic effects on the ...   \n",
       "548  Dietary fats and sodium are both palatable and...   \n",
       "549  RNA viruses are the only known RNA-protein (RN...   \n",
       "550  Rabies remains a major public health concern i...   \n",
       "551  BACKGROUND: Female endoparasitic ichneumonid w...   \n",
       "\n",
       "                                     abstract_entities  \n",
       "0    https://krr.triply.cc/.well-known/genid/1a8e54...  \n",
       "1    https://krr.triply.cc/.well-known/genid/0c5272...  \n",
       "2    https://krr.triply.cc/.well-known/genid/04f2a6...  \n",
       "3    https://krr.triply.cc/.well-known/genid/17395a...  \n",
       "4    https://krr.triply.cc/.well-known/genid/012736...  \n",
       "..                                                 ...  \n",
       "547  https://krr.triply.cc/.well-known/genid/093a08...  \n",
       "548  https://krr.triply.cc/.well-known/genid/003a90...  \n",
       "549  https://krr.triply.cc/.well-known/genid/055146...  \n",
       "550  https://krr.triply.cc/.well-known/genid/00457e...  \n",
       "551  https://krr.triply.cc/.well-known/genid/14e355...  \n",
       "\n",
       "[552 rows x 7 columns]"
      ]
     },
     "execution_count": 33,
     "metadata": {},
     "output_type": "execute_result"
    }
   ],
   "source": [
    "data"
   ]
  },
  {
   "cell_type": "code",
   "execution_count": 34,
   "metadata": {},
   "outputs": [],
   "source": [
    "def pattern_match(text):\n",
    "    \"\"\"function to find sentences that contain the lemma of hypothesis\"\"\"\n",
    "    matcher = Matcher(nlp.vocab)\n",
    "    # Add match ID \"HypothesisIs\" with no callback and one pattern\n",
    "    pattern = [{'LEMMA':{\"IN\":[\"hypothesis\",\"hypothesize\",\"hypothesise\", \"hypothesized\", \"hypothesised\"]}}]\n",
    "    \n",
    "    matcher.add(\"HypothesisIs\", None, pattern)\n",
    "\n",
    "    doc = nlp(text)\n",
    "    matches = matcher(doc)\n",
    "    for match_id, start, end in matches:\n",
    "        string_id = nlp.vocab.strings[match_id]  # Get string representation\n",
    "        span = doc[start:end]  # The matched span\n",
    "        sent = span.sent\n",
    "        return sent.text"
   ]
  },
  {
   "cell_type": "code",
   "execution_count": 35,
   "metadata": {},
   "outputs": [],
   "source": [
    "data['pattern_match'] = data['value'].apply(pattern_match)"
   ]
  },
  {
   "cell_type": "code",
   "execution_count": 36,
   "metadata": {},
   "outputs": [
    {
     "data": {
      "text/plain": [
       "220"
      ]
     },
     "execution_count": 36,
     "metadata": {},
     "output_type": "execute_result"
    }
   ],
   "source": [
    "# need to get rid of this instance, otherwise the merge noun chunks does not work. Drop this instance with the following cell. \n",
    "data[data['pattern_match']==\"While the hypothesis that dromedary camels are the likely major source of MERS-CoV infection in humans is gaining acceptance, conjecture continues over the original natural reservoir host(s)\"].index[0]"
   ]
  },
  {
   "cell_type": "code",
   "execution_count": 37,
   "metadata": {},
   "outputs": [],
   "source": [
    "data.drop([data.index[220]], inplace=True)"
   ]
  },
  {
   "cell_type": "code",
   "execution_count": 38,
   "metadata": {},
   "outputs": [],
   "source": [
    "merge_nps = nlp.create_pipe(\"merge_noun_chunks\")\n",
    "nlp.add_pipe(merge_nps)\n",
    "\n",
    "def merge_noun_chunks(text):\n",
    "    \"\"\"function to merge noun chunks in texts\"\"\"\n",
    "    noun_chunks = []\n",
    "    for t in nlp(text):\n",
    "        noun_chunks.append(t.text)\n",
    "        \n",
    "    return noun_chunks"
   ]
  },
  {
   "cell_type": "code",
   "execution_count": 39,
   "metadata": {},
   "outputs": [],
   "source": [
    "data['merged_noun_chunks'] = data['pattern_match'].apply(merge_noun_chunks)"
   ]
  },
  {
   "cell_type": "code",
   "execution_count": 40,
   "metadata": {},
   "outputs": [],
   "source": [
    "def combine_chunks(list_of_chunks):\n",
    "    for index, word in enumerate(list_of_chunks):\n",
    "        if len(word.split(' ')) > 1:\n",
    "            new_word = word.replace(' ', '_')\n",
    "            list_of_chunks[index] = new_word\n",
    "    sentence = ' '.join(list_of_chunks)\n",
    "    \n",
    "    return sentence"
   ]
  },
  {
   "cell_type": "code",
   "execution_count": 41,
   "metadata": {},
   "outputs": [],
   "source": [
    "data['merged_sent'] = data['merged_noun_chunks'].apply(combine_chunks)"
   ]
  },
  {
   "cell_type": "code",
   "execution_count": 42,
   "metadata": {},
   "outputs": [],
   "source": [
    "# solution from https://stackoverflow.com/questions/59993683/how-can-i-get-spacy-to-stop-splitting-both-hyphenated-numbers-and-words-into-sep \n",
    "def custom_tokenizer(nlp):\n",
    "    \"\"\"\n",
    "    Function that keeps intra-hyphenated words as single tokens.\n",
    "    \"\"\"\n",
    "    inf = list(nlp.Defaults.infixes)               # Default infixes\n",
    "    inf.remove(r\"(?<=[0-9])[+\\-\\*^](?=[0-9-])\")    # Remove the generic op between numbers or between a number and a -\n",
    "    inf = tuple(inf)                               # Convert inf to tuple\n",
    "    infixes = inf + tuple([r\"(?<=[0-9])[+*^](?=[0-9-])\", r\"(?<=[0-9])-(?=-)\"])  # Add the removed rule after subtracting (?<=[0-9])-(?=[0-9]) pattern\n",
    "    infixes = [x for x in infixes if '-|–|—|--|---|——|~' not in x] # Remove - between letters rule\n",
    "    infix_re = compile_infix_regex(infixes)\n",
    "\n",
    "    return Tokenizer(nlp.vocab, prefix_search=nlp.tokenizer.prefix_search,\n",
    "                                suffix_search=nlp.tokenizer.suffix_search,\n",
    "                                infix_finditer=infix_re.finditer,\n",
    "                                token_match=nlp.tokenizer.token_match,\n",
    "                                rules=nlp.Defaults.tokenizer_exceptions)\n",
    "\n",
    "nlp.tokenizer = custom_tokenizer(nlp)"
   ]
  },
  {
   "cell_type": "code",
   "execution_count": 43,
   "metadata": {},
   "outputs": [],
   "source": [
    "def get_keywords(hypothesis_sentence):\n",
    "    hypothesis_keywords = []\n",
    "    doc = nlp(hypothesis_sentence)\n",
    "    for tok in doc:\n",
    "        if tok.pos_ == \"PROPN\" or tok.pos_ == \"NOUN\":\n",
    "            hypothesis_keywords.append(tok.text)\n",
    "   \n",
    "    return hypothesis_keywords"
   ]
  },
  {
   "cell_type": "code",
   "execution_count": 44,
   "metadata": {},
   "outputs": [],
   "source": [
    "data['hypothesis_entities'] = data['merged_sent'].apply(get_keywords)"
   ]
  },
  {
   "cell_type": "code",
   "execution_count": 46,
   "metadata": {},
   "outputs": [],
   "source": [
    "data.drop(columns = ['abstract_entities', 'merged_noun_chunks', 'merged_sent'] , inplace=True)\n",
    "data.rename(columns={\"pattern_match\":\"hypothesis_sentence\"}, inplace=True)"
   ]
  },
  {
   "cell_type": "code",
   "execution_count": 47,
   "metadata": {},
   "outputs": [],
   "source": [
    "data.to_csv('paper_hyp_entity_data.csv', index=False)"
   ]
  },
  {
   "cell_type": "code",
   "execution_count": null,
   "metadata": {},
   "outputs": [],
   "source": []
  }
 ],
 "metadata": {
  "kernelspec": {
   "display_name": "Python 3",
   "language": "python",
   "name": "python3"
  },
  "language_info": {
   "codemirror_mode": {
    "name": "ipython",
    "version": 3
   },
   "file_extension": ".py",
   "mimetype": "text/x-python",
   "name": "python",
   "nbconvert_exporter": "python",
   "pygments_lexer": "ipython3",
   "version": "3.7.6"
  }
 },
 "nbformat": 4,
 "nbformat_minor": 4
}
