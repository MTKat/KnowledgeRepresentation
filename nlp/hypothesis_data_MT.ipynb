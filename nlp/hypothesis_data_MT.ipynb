{
 "cells": [
  {
   "cell_type": "code",
   "execution_count": 1,
   "metadata": {},
   "outputs": [],
   "source": [
    "import pandas as pd\n",
    "import spacy\n",
    "#nlp = spacy.load('en_core_web_sm') \n",
    "\n",
    "from spacy.matcher import Matcher \n",
    "from spacy.tokens import Span \n",
    "from spacy.tokenizer import Tokenizer\n",
    "from spacy.util import compile_infix_regex\n",
    "\n",
    "nlp = spacy.load(r'C:\\\\Users\\\\Marta\\\\AppData\\\\Local\\\\Programs\\\\Python\\\\Python38\\\\Lib\\\\site-packages\\\\en_core_web_sm\\\\en_core_web_sm-2.2.0')"
   ]
  },
  {
   "cell_type": "markdown",
   "metadata": {},
   "source": [
    "## Observations / Notes"
   ]
  },
  {
   "cell_type": "markdown",
   "metadata": {},
   "source": [
    "1. Ran the new query that Anna built - this results in 931 results\n",
    "2. There are 91 results which do not have the lemma 'hypothesis' in them - these are removed from the dataframe\n",
    "3. The final result currently has 840 abstracts\n",
    "4. An abstract can have up to 31 'grouped' entities - once they are separated out (but that's for one paper that is the outlier)\n",
    "5. I separated out each entity into its own column - I am not sure if this is the current way to go about it, but am thinking that in order to create triples we would want to do it per entity. We can tweak as required.\n"
   ]
  },
  {
   "cell_type": "code",
   "execution_count": 2,
   "metadata": {},
   "outputs": [],
   "source": [
    "# QUERY API: https://krr.triply.cc/annadg/-/queries/Abstract-Data-Query/1\n",
    "data = pd.read_csv('entityQueryResults.csv')"
   ]
  },
  {
   "cell_type": "code",
   "execution_count": 3,
   "metadata": {},
   "outputs": [],
   "source": [
    "def pattern_match(text):\n",
    "    \"\"\"function to find sentences that contain the lemma of hypothesis\"\"\"\n",
    "    matcher = Matcher(nlp.vocab)\n",
    "    # Add match ID \"HypothesisIs\" with no callback and one pattern\n",
    "    pattern = [{'LEMMA':{\"IN\":[\"hypothesis\",\"hypothesize\",\"hypothesise\", \"hypothesized\", \"hypothesised\"]}}]\n",
    "    \n",
    "    matcher.add(\"HypothesisIs\", None, pattern)\n",
    "\n",
    "    doc = nlp(text)\n",
    "    matches = matcher(doc)\n",
    "    for match_id, start, end in matches:\n",
    "        string_id = nlp.vocab.strings[match_id]  # Get string representation\n",
    "        span = doc[start:end]  # The matched span\n",
    "        sent = span.sent\n",
    "        return sent.text"
   ]
  },
  {
   "cell_type": "code",
   "execution_count": 4,
   "metadata": {},
   "outputs": [],
   "source": [
    "data['pattern_match'] = data['value'].apply(pattern_match)"
   ]
  },
  {
   "cell_type": "code",
   "execution_count": null,
   "metadata": {},
   "outputs": [],
   "source": [
    "# need to get rid of this instance, otherwise the merge noun chunks does not work. Drop this instance with the following cell. \n",
    "data[data['pattern_match']==\"While the hypothesis that dromedary camels are the likely major source of MERS-CoV infection in humans is gaining acceptance, conjecture continues over the original natural reservoir host(s)\"].index[0]"
   ]
  },
  {
   "cell_type": "code",
   "execution_count": null,
   "metadata": {},
   "outputs": [],
   "source": [
    "data.drop([data.index[220]], inplace=True)"
   ]
  },
  {
   "cell_type": "code",
   "execution_count": 5,
   "metadata": {},
   "outputs": [
    {
     "data": {
      "text/html": [
       "<div>\n",
       "<style scoped>\n",
       "    .dataframe tbody tr th:only-of-type {\n",
       "        vertical-align: middle;\n",
       "    }\n",
       "\n",
       "    .dataframe tbody tr th {\n",
       "        vertical-align: top;\n",
       "    }\n",
       "\n",
       "    .dataframe thead th {\n",
       "        text-align: right;\n",
       "    }\n",
       "</style>\n",
       "<table border=\"1\" class=\"dataframe\">\n",
       "  <thead>\n",
       "    <tr style=\"text-align: right;\">\n",
       "      <th></th>\n",
       "      <th>paper</th>\n",
       "      <th>article_types</th>\n",
       "      <th>new_id</th>\n",
       "      <th>pm_central_id</th>\n",
       "      <th>abstract</th>\n",
       "      <th>value</th>\n",
       "      <th>abstract_entities</th>\n",
       "      <th>pattern_match</th>\n",
       "    </tr>\n",
       "  </thead>\n",
       "  <tbody>\n",
       "    <tr>\n",
       "      <th>8</th>\n",
       "      <td>http://ns.inria.fr/covid19/ceda3494dad0563197a...</td>\n",
       "      <td>http://purl.org/ontology/bibo/AcademicArticle,...</td>\n",
       "      <td>http://example.org/hypothesis_ontology/ceda349...</td>\n",
       "      <td>NaN</td>\n",
       "      <td>http://ns.inria.fr/covid19/ceda3494dad0563197a...</td>\n",
       "      <td>Summary Severe Acute Respiratory Syndrome (SAR...</td>\n",
       "      <td>https://krr.triply.cc/.well-known/genid/0ff833...</td>\n",
       "      <td>None</td>\n",
       "    </tr>\n",
       "    <tr>\n",
       "      <th>30</th>\n",
       "      <td>http://ns.inria.fr/covid19/bdc91980735543fbf8c...</td>\n",
       "      <td>http://purl.org/ontology/bibo/AcademicArticle,...</td>\n",
       "      <td>http://example.org/hypothesis_ontology/bdc9198...</td>\n",
       "      <td>NaN</td>\n",
       "      <td>http://ns.inria.fr/covid19/bdc91980735543fbf8c...</td>\n",
       "      <td>Abstract For epidemic control, rapid identific...</td>\n",
       "      <td>https://krr.triply.cc/.well-known/genid/0c5288...</td>\n",
       "      <td>None</td>\n",
       "    </tr>\n",
       "    <tr>\n",
       "      <th>32</th>\n",
       "      <td>http://ns.inria.fr/covid19/5d53384b0c11ff23069...</td>\n",
       "      <td>http://purl.org/ontology/bibo/AcademicArticle,...</td>\n",
       "      <td>http://example.org/hypothesis_ontology/PMC7087...</td>\n",
       "      <td>PMC7087228</td>\n",
       "      <td>http://ns.inria.fr/covid19/5d53384b0c11ff23069...</td>\n",
       "      <td>Trionyx sinensis hemorrhagic syndrome virus (T...</td>\n",
       "      <td>https://krr.triply.cc/.well-known/genid/0cf5ee...</td>\n",
       "      <td>None</td>\n",
       "    </tr>\n",
       "    <tr>\n",
       "      <th>50</th>\n",
       "      <td>http://ns.inria.fr/covid19/40a07bdce5fdd3382c1...</td>\n",
       "      <td>http://purl.org/ontology/bibo/AcademicArticle,...</td>\n",
       "      <td>http://example.org/hypothesis_ontology/40a07bd...</td>\n",
       "      <td>NaN</td>\n",
       "      <td>http://ns.inria.fr/covid19/40a07bdce5fdd3382c1...</td>\n",
       "      <td>Abstract This study adopted a two (author: alg...</td>\n",
       "      <td>https://krr.triply.cc/.well-known/genid/0bcce4...</td>\n",
       "      <td>None</td>\n",
       "    </tr>\n",
       "    <tr>\n",
       "      <th>53</th>\n",
       "      <td>http://ns.inria.fr/covid19/f8f464606fc9d44a2cd...</td>\n",
       "      <td>http://purl.org/ontology/bibo/AcademicArticle,...</td>\n",
       "      <td>http://example.org/hypothesis_ontology/f8f4646...</td>\n",
       "      <td>NaN</td>\n",
       "      <td>http://ns.inria.fr/covid19/f8f464606fc9d44a2cd...</td>\n",
       "      <td>Abstract Objective To evaluate the health effe...</td>\n",
       "      <td>https://krr.triply.cc/.well-known/genid/78f8b4...</td>\n",
       "      <td>None</td>\n",
       "    </tr>\n",
       "    <tr>\n",
       "      <th>...</th>\n",
       "      <td>...</td>\n",
       "      <td>...</td>\n",
       "      <td>...</td>\n",
       "      <td>...</td>\n",
       "      <td>...</td>\n",
       "      <td>...</td>\n",
       "      <td>...</td>\n",
       "      <td>...</td>\n",
       "    </tr>\n",
       "    <tr>\n",
       "      <th>881</th>\n",
       "      <td>http://ns.inria.fr/covid19/f4e399086421d7a4ee5...</td>\n",
       "      <td>http://purl.org/ontology/bibo/AcademicArticle,...</td>\n",
       "      <td>http://example.org/hypothesis_ontology/f4e3990...</td>\n",
       "      <td>NaN</td>\n",
       "      <td>http://ns.inria.fr/covid19/f4e399086421d7a4ee5...</td>\n",
       "      <td>Abstract Suckling C57BU6 mice infected with mo...</td>\n",
       "      <td>https://krr.triply.cc/.well-known/genid/370225...</td>\n",
       "      <td>None</td>\n",
       "    </tr>\n",
       "    <tr>\n",
       "      <th>893</th>\n",
       "      <td>http://ns.inria.fr/covid19/704854881dfad026bde...</td>\n",
       "      <td>http://purl.org/ontology/bibo/AcademicArticle,...</td>\n",
       "      <td>http://example.org/hypothesis_ontology/7048548...</td>\n",
       "      <td>NaN</td>\n",
       "      <td>http://ns.inria.fr/covid19/704854881dfad026bde...</td>\n",
       "      <td>Background The risk of developing nosocomial i...</td>\n",
       "      <td>https://krr.triply.cc/.well-known/genid/1a1b7e...</td>\n",
       "      <td>None</td>\n",
       "    </tr>\n",
       "    <tr>\n",
       "      <th>909</th>\n",
       "      <td>http://ns.inria.fr/covid19/0c1b5e06659621ae245...</td>\n",
       "      <td>http://purl.org/ontology/bibo/AcademicArticle,...</td>\n",
       "      <td>http://example.org/hypothesis_ontology/PMC7108...</td>\n",
       "      <td>PMC7108410</td>\n",
       "      <td>http://ns.inria.fr/covid19/0c1b5e06659621ae245...</td>\n",
       "      <td>Abstract A new personal bioaerosol sampler has...</td>\n",
       "      <td>https://krr.triply.cc/.well-known/genid/1a842c...</td>\n",
       "      <td>None</td>\n",
       "    </tr>\n",
       "    <tr>\n",
       "      <th>913</th>\n",
       "      <td>http://ns.inria.fr/covid19/01e3d931c0bc070ec62...</td>\n",
       "      <td>http://purl.org/ontology/bibo/AcademicArticle,...</td>\n",
       "      <td>http://example.org/hypothesis_ontology/PMC5583...</td>\n",
       "      <td>PMC5583561</td>\n",
       "      <td>http://ns.inria.fr/covid19/01e3d931c0bc070ec62...</td>\n",
       "      <td>Medical countermeasures, including new drugs a...</td>\n",
       "      <td>https://krr.triply.cc/.well-known/genid/16156c...</td>\n",
       "      <td>None</td>\n",
       "    </tr>\n",
       "    <tr>\n",
       "      <th>916</th>\n",
       "      <td>http://ns.inria.fr/covid19/5558b9b15a0a761b7e4...</td>\n",
       "      <td>http://purl.org/ontology/bibo/AcademicArticle,...</td>\n",
       "      <td>http://example.org/hypothesis_ontology/5558b9b...</td>\n",
       "      <td>NaN</td>\n",
       "      <td>http://ns.inria.fr/covid19/5558b9b15a0a761b7e4...</td>\n",
       "      <td>Résumé Nous présentons 2 cas de maladie de Kaw...</td>\n",
       "      <td>https://krr.triply.cc/.well-known/genid/400fe0...</td>\n",
       "      <td>None</td>\n",
       "    </tr>\n",
       "  </tbody>\n",
       "</table>\n",
       "<p>91 rows × 8 columns</p>\n",
       "</div>"
      ],
      "text/plain": [
       "                                                 paper  \\\n",
       "8    http://ns.inria.fr/covid19/ceda3494dad0563197a...   \n",
       "30   http://ns.inria.fr/covid19/bdc91980735543fbf8c...   \n",
       "32   http://ns.inria.fr/covid19/5d53384b0c11ff23069...   \n",
       "50   http://ns.inria.fr/covid19/40a07bdce5fdd3382c1...   \n",
       "53   http://ns.inria.fr/covid19/f8f464606fc9d44a2cd...   \n",
       "..                                                 ...   \n",
       "881  http://ns.inria.fr/covid19/f4e399086421d7a4ee5...   \n",
       "893  http://ns.inria.fr/covid19/704854881dfad026bde...   \n",
       "909  http://ns.inria.fr/covid19/0c1b5e06659621ae245...   \n",
       "913  http://ns.inria.fr/covid19/01e3d931c0bc070ec62...   \n",
       "916  http://ns.inria.fr/covid19/5558b9b15a0a761b7e4...   \n",
       "\n",
       "                                         article_types  \\\n",
       "8    http://purl.org/ontology/bibo/AcademicArticle,...   \n",
       "30   http://purl.org/ontology/bibo/AcademicArticle,...   \n",
       "32   http://purl.org/ontology/bibo/AcademicArticle,...   \n",
       "50   http://purl.org/ontology/bibo/AcademicArticle,...   \n",
       "53   http://purl.org/ontology/bibo/AcademicArticle,...   \n",
       "..                                                 ...   \n",
       "881  http://purl.org/ontology/bibo/AcademicArticle,...   \n",
       "893  http://purl.org/ontology/bibo/AcademicArticle,...   \n",
       "909  http://purl.org/ontology/bibo/AcademicArticle,...   \n",
       "913  http://purl.org/ontology/bibo/AcademicArticle,...   \n",
       "916  http://purl.org/ontology/bibo/AcademicArticle,...   \n",
       "\n",
       "                                                new_id pm_central_id  \\\n",
       "8    http://example.org/hypothesis_ontology/ceda349...           NaN   \n",
       "30   http://example.org/hypothesis_ontology/bdc9198...           NaN   \n",
       "32   http://example.org/hypothesis_ontology/PMC7087...    PMC7087228   \n",
       "50   http://example.org/hypothesis_ontology/40a07bd...           NaN   \n",
       "53   http://example.org/hypothesis_ontology/f8f4646...           NaN   \n",
       "..                                                 ...           ...   \n",
       "881  http://example.org/hypothesis_ontology/f4e3990...           NaN   \n",
       "893  http://example.org/hypothesis_ontology/7048548...           NaN   \n",
       "909  http://example.org/hypothesis_ontology/PMC7108...    PMC7108410   \n",
       "913  http://example.org/hypothesis_ontology/PMC5583...    PMC5583561   \n",
       "916  http://example.org/hypothesis_ontology/5558b9b...           NaN   \n",
       "\n",
       "                                              abstract  \\\n",
       "8    http://ns.inria.fr/covid19/ceda3494dad0563197a...   \n",
       "30   http://ns.inria.fr/covid19/bdc91980735543fbf8c...   \n",
       "32   http://ns.inria.fr/covid19/5d53384b0c11ff23069...   \n",
       "50   http://ns.inria.fr/covid19/40a07bdce5fdd3382c1...   \n",
       "53   http://ns.inria.fr/covid19/f8f464606fc9d44a2cd...   \n",
       "..                                                 ...   \n",
       "881  http://ns.inria.fr/covid19/f4e399086421d7a4ee5...   \n",
       "893  http://ns.inria.fr/covid19/704854881dfad026bde...   \n",
       "909  http://ns.inria.fr/covid19/0c1b5e06659621ae245...   \n",
       "913  http://ns.inria.fr/covid19/01e3d931c0bc070ec62...   \n",
       "916  http://ns.inria.fr/covid19/5558b9b15a0a761b7e4...   \n",
       "\n",
       "                                                 value  \\\n",
       "8    Summary Severe Acute Respiratory Syndrome (SAR...   \n",
       "30   Abstract For epidemic control, rapid identific...   \n",
       "32   Trionyx sinensis hemorrhagic syndrome virus (T...   \n",
       "50   Abstract This study adopted a two (author: alg...   \n",
       "53   Abstract Objective To evaluate the health effe...   \n",
       "..                                                 ...   \n",
       "881  Abstract Suckling C57BU6 mice infected with mo...   \n",
       "893  Background The risk of developing nosocomial i...   \n",
       "909  Abstract A new personal bioaerosol sampler has...   \n",
       "913  Medical countermeasures, including new drugs a...   \n",
       "916  Résumé Nous présentons 2 cas de maladie de Kaw...   \n",
       "\n",
       "                                     abstract_entities pattern_match  \n",
       "8    https://krr.triply.cc/.well-known/genid/0ff833...          None  \n",
       "30   https://krr.triply.cc/.well-known/genid/0c5288...          None  \n",
       "32   https://krr.triply.cc/.well-known/genid/0cf5ee...          None  \n",
       "50   https://krr.triply.cc/.well-known/genid/0bcce4...          None  \n",
       "53   https://krr.triply.cc/.well-known/genid/78f8b4...          None  \n",
       "..                                                 ...           ...  \n",
       "881  https://krr.triply.cc/.well-known/genid/370225...          None  \n",
       "893  https://krr.triply.cc/.well-known/genid/1a1b7e...          None  \n",
       "909  https://krr.triply.cc/.well-known/genid/1a842c...          None  \n",
       "913  https://krr.triply.cc/.well-known/genid/16156c...          None  \n",
       "916  https://krr.triply.cc/.well-known/genid/400fe0...          None  \n",
       "\n",
       "[91 rows x 8 columns]"
      ]
     },
     "execution_count": 5,
     "metadata": {},
     "output_type": "execute_result"
    }
   ],
   "source": [
    "# creating bool series True for NaN values - as the subsequent formula will break if there are \n",
    "bool_series = pd.isnull(data[\"pattern_match\"])  \n",
    "    \n",
    "# filtering data  \n",
    "data[bool_series]"
   ]
  },
  {
   "cell_type": "code",
<<<<<<< HEAD
   "execution_count": null,
   "metadata": {},
   "outputs": [],
=======
   "execution_count": 11,
   "metadata": {},
   "outputs": [
    {
     "name": "stdout",
     "output_type": "stream",
     "text": [
      "Abstract Suckling C57BU6 mice infected with mouse hepatitis virus strain JHM (MHV-JHM) develop either a fatal acute encephalomyelitis or a late onset demyelinating disease, depending on whether they are nursed by unimmunized or immunized dams. To determine the localization of virus-specific RNA, serial sections of brains from infected and uninfected mice were annealed with a 35S-labeled antisense RNA probe and analyzed by film autoradiography. In the mice with acute encephalomyelitis, viral RNA was present in the mesencephalon, hypothalamus, hippocampus, basal ganglia, subcortical white matter, and thalamus. Viral RNA was detected in the spinal cords of all mice with the late onset, demyelinating encephalomyelitis, but was distributed into three different patterns in the brains of these mice, even though all had the same clinical disease. In the first group, viral RNA was detected only in the brainstem. In the second group, viral RNA was detected in the brainstem, thalamus, and cerebral grey matter. This distribution was consistent with viral spread along well-defined tracts connecting these parts of the brain. In the third group, viral RNA could be detected both in the brainstem and in several white matter tracts within close physical proximity to the optic chiasm. This distribution was consistent with viral spread by an extracellular route from one white matter tract to other tracts which were physically close, but which were not part of the same pathways. These results suggest that MHV-JHM spreads through the central nervous system both along well-defined neuronal pathways and by spread from contiguous structures, but also suggest that viral replicates preferentially in a limited number of areas of the brain. The technique of in situ hybridization with film autoradiography should be generally useful for analyzing macroscopic movements of virus within infected organs. \n",
      "\n"
     ]
    }
   ],
>>>>>>> ec6da02dc33ad8113e3861179ee53c5401245116
   "source": [
    "# Investigate abstracts as not matching lemma pattern to verify integrity of pattern\n",
    "\n",
    "for row in data.value[881:882]:  # iterating through the rows of the object column\n",
    "    print(row, '\\n')"
   ]
  },
  {
   "cell_type": "code",
<<<<<<< HEAD
   "execution_count": 6,
=======
   "execution_count": 12,
>>>>>>> ec6da02dc33ad8113e3861179ee53c5401245116
   "metadata": {},
   "outputs": [],
   "source": [
    "# Drop rows where 'pattern match' does not return a match\n",
    "data.dropna(subset=['pattern_match'], inplace = True)"
   ]
  },
  {
   "cell_type": "code",
<<<<<<< HEAD
   "execution_count": 7,
=======
   "execution_count": 13,
>>>>>>> ec6da02dc33ad8113e3861179ee53c5401245116
   "metadata": {},
   "outputs": [],
   "source": [
    "merge_nps = nlp.create_pipe(\"merge_noun_chunks\")\n",
    "nlp.add_pipe(merge_nps)\n",
    "\n",
    "def merge_noun_chunks(text):\n",
    "    \"\"\"function to merge noun chunks in texts\"\"\"\n",
    "    noun_chunks = []\n",
    "    for t in nlp(text):\n",
    "        noun_chunks.append(t.text)\n",
    "        \n",
    "    return noun_chunks"
   ]
  },
  {
   "cell_type": "code",
<<<<<<< HEAD
   "execution_count": 8,
=======
   "execution_count": 14,
>>>>>>> ec6da02dc33ad8113e3861179ee53c5401245116
   "metadata": {},
   "outputs": [],
   "source": [
    "data['merged_noun_chunks'] = data['pattern_match'].apply(merge_noun_chunks)"
   ]
  },
  {
   "cell_type": "code",
<<<<<<< HEAD
   "execution_count": 9,
=======
   "execution_count": 15,
>>>>>>> ec6da02dc33ad8113e3861179ee53c5401245116
   "metadata": {},
   "outputs": [],
   "source": [
    "def combine_chunks(list_of_chunks):\n",
    "    for index, word in enumerate(list_of_chunks):\n",
    "        if len(word.split(' ')) > 1:\n",
    "            new_word = word.replace(' ', '_')\n",
    "            list_of_chunks[index] = new_word\n",
    "    sentence = ' '.join(list_of_chunks)\n",
    "    \n",
    "    return sentence"
   ]
  },
  {
   "cell_type": "code",
<<<<<<< HEAD
   "execution_count": 10,
=======
   "execution_count": 16,
>>>>>>> ec6da02dc33ad8113e3861179ee53c5401245116
   "metadata": {},
   "outputs": [],
   "source": [
    "data['merged_sent'] = data['merged_noun_chunks'].apply(combine_chunks)"
   ]
  },
  {
   "cell_type": "code",
<<<<<<< HEAD
   "execution_count": 11,
=======
   "execution_count": 17,
>>>>>>> ec6da02dc33ad8113e3861179ee53c5401245116
   "metadata": {},
   "outputs": [],
   "source": [
    "# solution from https://stackoverflow.com/questions/59993683/how-can-i-get-spacy-to-stop-splitting-both-hyphenated-numbers-and-words-into-sep \n",
    "def custom_tokenizer(nlp):\n",
    "    \"\"\"\n",
    "    Function that keeps intra-hyphenated words as single tokens.\n",
    "    \"\"\"\n",
    "    inf = list(nlp.Defaults.infixes)               # Default infixes\n",
    "    inf.remove(r\"(?<=[0-9])[+\\-\\*^](?=[0-9-])\")    # Remove the generic op between numbers or between a number and a -\n",
    "    inf = tuple(inf)                               # Convert inf to tuple\n",
    "    infixes = inf + tuple([r\"(?<=[0-9])[+*^](?=[0-9-])\", r\"(?<=[0-9])-(?=-)\"])  # Add the removed rule after subtracting (?<=[0-9])-(?=[0-9]) pattern\n",
    "    infixes = [x for x in infixes if '-|–|—|--|---|——|~' not in x] # Remove - between letters rule\n",
    "    infix_re = compile_infix_regex(infixes)\n",
    "\n",
    "    return Tokenizer(nlp.vocab, prefix_search=nlp.tokenizer.prefix_search,\n",
    "                                suffix_search=nlp.tokenizer.suffix_search,\n",
    "                                infix_finditer=infix_re.finditer,\n",
    "                                token_match=nlp.tokenizer.token_match,\n",
    "                                rules=nlp.Defaults.tokenizer_exceptions)\n",
    "\n",
    "nlp.tokenizer = custom_tokenizer(nlp)"
   ]
  },
  {
   "cell_type": "code",
<<<<<<< HEAD
   "execution_count": 12,
=======
   "execution_count": 18,
>>>>>>> ec6da02dc33ad8113e3861179ee53c5401245116
   "metadata": {},
   "outputs": [],
   "source": [
    "def get_keywords(hypothesis_sentence):\n",
    "    hypothesis_keywords = []\n",
    "    doc = nlp(hypothesis_sentence)\n",
    "    for tok in doc:\n",
    "        if tok.pos_ == \"PROPN\" or tok.pos_ == \"NOUN\":\n",
    "            hypothesis_keywords.append(tok.text)\n",
    "   \n",
    "    return hypothesis_keywords"
   ]
  },
  {
   "cell_type": "code",
<<<<<<< HEAD
   "execution_count": 13,
=======
   "execution_count": 19,
>>>>>>> ec6da02dc33ad8113e3861179ee53c5401245116
   "metadata": {},
   "outputs": [],
   "source": [
    "data['hypothesis_entities'] = data['merged_sent'].apply(get_keywords)"
   ]
  },
  {
   "cell_type": "code",
<<<<<<< HEAD
   "execution_count": 14,
   "metadata": {},
   "outputs": [],
=======
   "execution_count": 21,
   "metadata": {},
   "outputs": [
    {
     "ename": "KeyError",
     "evalue": "\"['abstract_entities' 'merged_noun_chunks' 'merged_sent'] not found in axis\"",
     "output_type": "error",
     "traceback": [
      "\u001b[1;31m---------------------------------------------------------------------------\u001b[0m",
      "\u001b[1;31mKeyError\u001b[0m                                  Traceback (most recent call last)",
      "\u001b[1;32m<ipython-input-21-bdaf3839e138>\u001b[0m in \u001b[0;36m<module>\u001b[1;34m\u001b[0m\n\u001b[1;32m----> 1\u001b[1;33m \u001b[0mdata\u001b[0m\u001b[1;33m.\u001b[0m\u001b[0mdrop\u001b[0m\u001b[1;33m(\u001b[0m\u001b[0mcolumns\u001b[0m \u001b[1;33m=\u001b[0m \u001b[1;33m[\u001b[0m\u001b[1;34m'abstract_entities'\u001b[0m\u001b[1;33m,\u001b[0m \u001b[1;34m'merged_noun_chunks'\u001b[0m\u001b[1;33m,\u001b[0m \u001b[1;34m'merged_sent'\u001b[0m\u001b[1;33m]\u001b[0m \u001b[1;33m,\u001b[0m \u001b[0minplace\u001b[0m\u001b[1;33m=\u001b[0m\u001b[1;32mTrue\u001b[0m\u001b[1;33m)\u001b[0m\u001b[1;33m\u001b[0m\u001b[1;33m\u001b[0m\u001b[0m\n\u001b[0m\u001b[0;32m      2\u001b[0m \u001b[0mdata\u001b[0m\u001b[1;33m.\u001b[0m\u001b[0mrename\u001b[0m\u001b[1;33m(\u001b[0m\u001b[0mcolumns\u001b[0m\u001b[1;33m=\u001b[0m\u001b[1;33m{\u001b[0m\u001b[1;34m\"pattern_match\"\u001b[0m\u001b[1;33m:\u001b[0m\u001b[1;34m\"hypothesis_sentence\"\u001b[0m\u001b[1;33m}\u001b[0m\u001b[1;33m,\u001b[0m \u001b[0minplace\u001b[0m\u001b[1;33m=\u001b[0m\u001b[1;32mTrue\u001b[0m\u001b[1;33m)\u001b[0m\u001b[1;33m\u001b[0m\u001b[1;33m\u001b[0m\u001b[0m\n",
      "\u001b[1;32m~\\anaconda3\\lib\\site-packages\\pandas\\core\\frame.py\u001b[0m in \u001b[0;36mdrop\u001b[1;34m(self, labels, axis, index, columns, level, inplace, errors)\u001b[0m\n\u001b[0;32m   3995\u001b[0m             \u001b[0mlevel\u001b[0m\u001b[1;33m=\u001b[0m\u001b[0mlevel\u001b[0m\u001b[1;33m,\u001b[0m\u001b[1;33m\u001b[0m\u001b[1;33m\u001b[0m\u001b[0m\n\u001b[0;32m   3996\u001b[0m             \u001b[0minplace\u001b[0m\u001b[1;33m=\u001b[0m\u001b[0minplace\u001b[0m\u001b[1;33m,\u001b[0m\u001b[1;33m\u001b[0m\u001b[1;33m\u001b[0m\u001b[0m\n\u001b[1;32m-> 3997\u001b[1;33m             \u001b[0merrors\u001b[0m\u001b[1;33m=\u001b[0m\u001b[0merrors\u001b[0m\u001b[1;33m,\u001b[0m\u001b[1;33m\u001b[0m\u001b[1;33m\u001b[0m\u001b[0m\n\u001b[0m\u001b[0;32m   3998\u001b[0m         )\n\u001b[0;32m   3999\u001b[0m \u001b[1;33m\u001b[0m\u001b[0m\n",
      "\u001b[1;32m~\\anaconda3\\lib\\site-packages\\pandas\\core\\generic.py\u001b[0m in \u001b[0;36mdrop\u001b[1;34m(self, labels, axis, index, columns, level, inplace, errors)\u001b[0m\n\u001b[0;32m   3934\u001b[0m         \u001b[1;32mfor\u001b[0m \u001b[0maxis\u001b[0m\u001b[1;33m,\u001b[0m \u001b[0mlabels\u001b[0m \u001b[1;32min\u001b[0m \u001b[0maxes\u001b[0m\u001b[1;33m.\u001b[0m\u001b[0mitems\u001b[0m\u001b[1;33m(\u001b[0m\u001b[1;33m)\u001b[0m\u001b[1;33m:\u001b[0m\u001b[1;33m\u001b[0m\u001b[1;33m\u001b[0m\u001b[0m\n\u001b[0;32m   3935\u001b[0m             \u001b[1;32mif\u001b[0m \u001b[0mlabels\u001b[0m \u001b[1;32mis\u001b[0m \u001b[1;32mnot\u001b[0m \u001b[1;32mNone\u001b[0m\u001b[1;33m:\u001b[0m\u001b[1;33m\u001b[0m\u001b[1;33m\u001b[0m\u001b[0m\n\u001b[1;32m-> 3936\u001b[1;33m                 \u001b[0mobj\u001b[0m \u001b[1;33m=\u001b[0m \u001b[0mobj\u001b[0m\u001b[1;33m.\u001b[0m\u001b[0m_drop_axis\u001b[0m\u001b[1;33m(\u001b[0m\u001b[0mlabels\u001b[0m\u001b[1;33m,\u001b[0m \u001b[0maxis\u001b[0m\u001b[1;33m,\u001b[0m \u001b[0mlevel\u001b[0m\u001b[1;33m=\u001b[0m\u001b[0mlevel\u001b[0m\u001b[1;33m,\u001b[0m \u001b[0merrors\u001b[0m\u001b[1;33m=\u001b[0m\u001b[0merrors\u001b[0m\u001b[1;33m)\u001b[0m\u001b[1;33m\u001b[0m\u001b[1;33m\u001b[0m\u001b[0m\n\u001b[0m\u001b[0;32m   3937\u001b[0m \u001b[1;33m\u001b[0m\u001b[0m\n\u001b[0;32m   3938\u001b[0m         \u001b[1;32mif\u001b[0m \u001b[0minplace\u001b[0m\u001b[1;33m:\u001b[0m\u001b[1;33m\u001b[0m\u001b[1;33m\u001b[0m\u001b[0m\n",
      "\u001b[1;32m~\\anaconda3\\lib\\site-packages\\pandas\\core\\generic.py\u001b[0m in \u001b[0;36m_drop_axis\u001b[1;34m(self, labels, axis, level, errors)\u001b[0m\n\u001b[0;32m   3968\u001b[0m                 \u001b[0mnew_axis\u001b[0m \u001b[1;33m=\u001b[0m \u001b[0maxis\u001b[0m\u001b[1;33m.\u001b[0m\u001b[0mdrop\u001b[0m\u001b[1;33m(\u001b[0m\u001b[0mlabels\u001b[0m\u001b[1;33m,\u001b[0m \u001b[0mlevel\u001b[0m\u001b[1;33m=\u001b[0m\u001b[0mlevel\u001b[0m\u001b[1;33m,\u001b[0m \u001b[0merrors\u001b[0m\u001b[1;33m=\u001b[0m\u001b[0merrors\u001b[0m\u001b[1;33m)\u001b[0m\u001b[1;33m\u001b[0m\u001b[1;33m\u001b[0m\u001b[0m\n\u001b[0;32m   3969\u001b[0m             \u001b[1;32melse\u001b[0m\u001b[1;33m:\u001b[0m\u001b[1;33m\u001b[0m\u001b[1;33m\u001b[0m\u001b[0m\n\u001b[1;32m-> 3970\u001b[1;33m                 \u001b[0mnew_axis\u001b[0m \u001b[1;33m=\u001b[0m \u001b[0maxis\u001b[0m\u001b[1;33m.\u001b[0m\u001b[0mdrop\u001b[0m\u001b[1;33m(\u001b[0m\u001b[0mlabels\u001b[0m\u001b[1;33m,\u001b[0m \u001b[0merrors\u001b[0m\u001b[1;33m=\u001b[0m\u001b[0merrors\u001b[0m\u001b[1;33m)\u001b[0m\u001b[1;33m\u001b[0m\u001b[1;33m\u001b[0m\u001b[0m\n\u001b[0m\u001b[0;32m   3971\u001b[0m             \u001b[0mresult\u001b[0m \u001b[1;33m=\u001b[0m \u001b[0mself\u001b[0m\u001b[1;33m.\u001b[0m\u001b[0mreindex\u001b[0m\u001b[1;33m(\u001b[0m\u001b[1;33m**\u001b[0m\u001b[1;33m{\u001b[0m\u001b[0maxis_name\u001b[0m\u001b[1;33m:\u001b[0m \u001b[0mnew_axis\u001b[0m\u001b[1;33m}\u001b[0m\u001b[1;33m)\u001b[0m\u001b[1;33m\u001b[0m\u001b[1;33m\u001b[0m\u001b[0m\n\u001b[0;32m   3972\u001b[0m \u001b[1;33m\u001b[0m\u001b[0m\n",
      "\u001b[1;32m~\\anaconda3\\lib\\site-packages\\pandas\\core\\indexes\\base.py\u001b[0m in \u001b[0;36mdrop\u001b[1;34m(self, labels, errors)\u001b[0m\n\u001b[0;32m   5016\u001b[0m         \u001b[1;32mif\u001b[0m \u001b[0mmask\u001b[0m\u001b[1;33m.\u001b[0m\u001b[0many\u001b[0m\u001b[1;33m(\u001b[0m\u001b[1;33m)\u001b[0m\u001b[1;33m:\u001b[0m\u001b[1;33m\u001b[0m\u001b[1;33m\u001b[0m\u001b[0m\n\u001b[0;32m   5017\u001b[0m             \u001b[1;32mif\u001b[0m \u001b[0merrors\u001b[0m \u001b[1;33m!=\u001b[0m \u001b[1;34m\"ignore\"\u001b[0m\u001b[1;33m:\u001b[0m\u001b[1;33m\u001b[0m\u001b[1;33m\u001b[0m\u001b[0m\n\u001b[1;32m-> 5018\u001b[1;33m                 \u001b[1;32mraise\u001b[0m \u001b[0mKeyError\u001b[0m\u001b[1;33m(\u001b[0m\u001b[1;34mf\"{labels[mask]} not found in axis\"\u001b[0m\u001b[1;33m)\u001b[0m\u001b[1;33m\u001b[0m\u001b[1;33m\u001b[0m\u001b[0m\n\u001b[0m\u001b[0;32m   5019\u001b[0m             \u001b[0mindexer\u001b[0m \u001b[1;33m=\u001b[0m \u001b[0mindexer\u001b[0m\u001b[1;33m[\u001b[0m\u001b[1;33m~\u001b[0m\u001b[0mmask\u001b[0m\u001b[1;33m]\u001b[0m\u001b[1;33m\u001b[0m\u001b[1;33m\u001b[0m\u001b[0m\n\u001b[0;32m   5020\u001b[0m         \u001b[1;32mreturn\u001b[0m \u001b[0mself\u001b[0m\u001b[1;33m.\u001b[0m\u001b[0mdelete\u001b[0m\u001b[1;33m(\u001b[0m\u001b[0mindexer\u001b[0m\u001b[1;33m)\u001b[0m\u001b[1;33m\u001b[0m\u001b[1;33m\u001b[0m\u001b[0m\n",
      "\u001b[1;31mKeyError\u001b[0m: \"['abstract_entities' 'merged_noun_chunks' 'merged_sent'] not found in axis\""
     ]
    }
   ],
>>>>>>> ec6da02dc33ad8113e3861179ee53c5401245116
   "source": [
    "data.drop(columns = ['abstract_entities', 'merged_noun_chunks', 'merged_sent'] , inplace=True)\n",
    "data.rename(columns={\"pattern_match\":\"hypothesis_sentence\"}, inplace=True)"
   ]
  },
  {
   "cell_type": "code",
<<<<<<< HEAD
   "execution_count": 15,
=======
   "execution_count": 24,
>>>>>>> ec6da02dc33ad8113e3861179ee53c5401245116
   "metadata": {},
   "outputs": [],
   "source": [
    "def clean_hypothesis_entities(text):\n",
    "    cleaned_hypotheses = []\n",
    "    for word in (text):\n",
    "        word.split(' ')\n",
    "        new_word = word.replace('_', ' ')\n",
    "        cleaned_hypotheses.append(new_word)\n",
    "    \n",
    "    return cleaned_hypotheses"
   ]
  },
  {
   "cell_type": "code",
<<<<<<< HEAD
   "execution_count": 16,
=======
   "execution_count": 25,
>>>>>>> ec6da02dc33ad8113e3861179ee53c5401245116
   "metadata": {},
   "outputs": [],
   "source": [
    "data[\"clean_hypothesis_entities\"] = data[\"hypothesis_entities\"].apply(clean_hypothesis_entities)"
   ]
  },
  {
   "cell_type": "code",
<<<<<<< HEAD
   "execution_count": 17,
   "metadata": {},
=======
   "execution_count": 27,
   "metadata": {},
   "outputs": [],
   "source": [
    "f = lambda x: 'entity_{}'.format(x + 1)\n",
    "entity_df = pd.DataFrame(data.clean_hypothesis_entities.values.tolist(),data.index, dtype=object).fillna('').rename(columns=f)"
   ]
  },
  {
   "cell_type": "code",
   "execution_count": 28,
   "metadata": {},
   "outputs": [],
   "source": [
    "data = data.reset_index(drop=True)\n",
    "entity_df = entity_df.reset_index(drop=True)"
   ]
  },
  {
   "cell_type": "code",
   "execution_count": 29,
   "metadata": {},
   "outputs": [],
   "source": [
    "merged_data = (pd.concat([data,entity_df],axis=1))"
   ]
  },
  {
   "cell_type": "code",
   "execution_count": 30,
   "metadata": {
    "scrolled": true
   },
>>>>>>> ec6da02dc33ad8113e3861179ee53c5401245116
   "outputs": [
    {
     "data": {
      "text/html": [
       "<div>\n",
       "<style scoped>\n",
       "    .dataframe tbody tr th:only-of-type {\n",
       "        vertical-align: middle;\n",
       "    }\n",
       "\n",
       "    .dataframe tbody tr th {\n",
       "        vertical-align: top;\n",
       "    }\n",
       "\n",
       "    .dataframe thead th {\n",
       "        text-align: right;\n",
       "    }\n",
       "</style>\n",
       "<table border=\"1\" class=\"dataframe\">\n",
       "  <thead>\n",
       "    <tr style=\"text-align: right;\">\n",
       "      <th></th>\n",
       "      <th>paper</th>\n",
       "      <th>article_types</th>\n",
       "      <th>new_id</th>\n",
       "      <th>pm_central_id</th>\n",
       "      <th>abstract</th>\n",
       "      <th>value</th>\n",
       "      <th>hypothesis_sentence</th>\n",
       "      <th>hypothesis_entities</th>\n",
       "      <th>clean_hypothesis_entities</th>\n",
<<<<<<< HEAD
=======
       "      <th>entity_1</th>\n",
       "      <th>...</th>\n",
       "      <th>entity_22</th>\n",
       "      <th>entity_23</th>\n",
       "      <th>entity_24</th>\n",
       "      <th>entity_25</th>\n",
       "      <th>entity_26</th>\n",
       "      <th>entity_27</th>\n",
       "      <th>entity_28</th>\n",
       "      <th>entity_29</th>\n",
       "      <th>entity_30</th>\n",
       "      <th>entity_31</th>\n",
>>>>>>> ec6da02dc33ad8113e3861179ee53c5401245116
       "    </tr>\n",
       "  </thead>\n",
       "  <tbody>\n",
       "    <tr>\n",
       "      <th>0</th>\n",
       "      <td>http://ns.inria.fr/covid19/77eb2dc4442518f5757...</td>\n",
       "      <td>http://purl.org/ontology/bibo/AcademicArticle,...</td>\n",
       "      <td>http://example.org/hypothesis_ontology/77eb2dc...</td>\n",
       "      <td>NaN</td>\n",
       "      <td>http://ns.inria.fr/covid19/77eb2dc4442518f5757...</td>\n",
       "      <td>Summary The network theory of autoimmunity is ...</td>\n",
       "      <td>Based on this hypothesis, a T-cell vaccination...</td>\n",
       "      <td>[this_hypothesis, effector_T_cells, autoimmuno...</td>\n",
       "      <td>[this hypothesis, effector T cells, autoimmuno...</td>\n",
<<<<<<< HEAD
=======
       "      <td>this hypothesis</td>\n",
       "      <td>...</td>\n",
       "      <td></td>\n",
       "      <td></td>\n",
       "      <td></td>\n",
       "      <td></td>\n",
       "      <td></td>\n",
       "      <td></td>\n",
       "      <td></td>\n",
       "      <td></td>\n",
       "      <td></td>\n",
       "      <td></td>\n",
>>>>>>> ec6da02dc33ad8113e3861179ee53c5401245116
       "    </tr>\n",
       "    <tr>\n",
       "      <th>1</th>\n",
       "      <td>http://ns.inria.fr/covid19/180c88b68816bbb6eb5...</td>\n",
       "      <td>http://purl.org/ontology/bibo/AcademicArticle,...</td>\n",
       "      <td>http://example.org/hypothesis_ontology/180c88b...</td>\n",
       "      <td>NaN</td>\n",
       "      <td>http://ns.inria.fr/covid19/180c88b68816bbb6eb5...</td>\n",
       "      <td>AbstractE-probe Diagnostic for Nucleic acid An...</td>\n",
       "      <td>However, enhancements made to EDNA increased i...</td>\n",
       "      <td>[However , enhancements, EDNA, increased its_c...</td>\n",
       "      <td>[However , enhancements, EDNA, increased its c...</td>\n",
<<<<<<< HEAD
=======
       "      <td>However , enhancements</td>\n",
       "      <td>...</td>\n",
       "      <td></td>\n",
       "      <td></td>\n",
       "      <td></td>\n",
       "      <td></td>\n",
       "      <td></td>\n",
       "      <td></td>\n",
       "      <td></td>\n",
       "      <td></td>\n",
       "      <td></td>\n",
       "      <td></td>\n",
>>>>>>> ec6da02dc33ad8113e3861179ee53c5401245116
       "    </tr>\n",
       "    <tr>\n",
       "      <th>2</th>\n",
       "      <td>http://ns.inria.fr/covid19/319c4a09c5862d35692...</td>\n",
       "      <td>http://purl.org/ontology/bibo/AcademicArticle,...</td>\n",
       "      <td>http://example.org/hypothesis_ontology/319c4a0...</td>\n",
       "      <td>NaN</td>\n",
       "      <td>http://ns.inria.fr/covid19/319c4a09c5862d35692...</td>\n",
       "      <td>Abstract. The nasal decongestant oxymetazoline...</td>\n",
       "      <td>In a follow up study, we hypothesized that OMZ...</td>\n",
       "      <td>[OMZ, pro-resolving_lipoxins, production, immu...</td>\n",
       "      <td>[OMZ, pro-resolving lipoxins, production, immu...</td>\n",
<<<<<<< HEAD
=======
       "      <td>OMZ</td>\n",
       "      <td>...</td>\n",
       "      <td></td>\n",
       "      <td></td>\n",
       "      <td></td>\n",
       "      <td></td>\n",
       "      <td></td>\n",
       "      <td></td>\n",
       "      <td></td>\n",
       "      <td></td>\n",
       "      <td></td>\n",
       "      <td></td>\n",
>>>>>>> ec6da02dc33ad8113e3861179ee53c5401245116
       "    </tr>\n",
       "    <tr>\n",
       "      <th>3</th>\n",
       "      <td>http://ns.inria.fr/covid19/6c40c8719f31e55314e...</td>\n",
       "      <td>http://purl.org/ontology/bibo/AcademicArticle,...</td>\n",
       "      <td>http://example.org/hypothesis_ontology/PMC3159...</td>\n",
       "      <td>PMC3159512</td>\n",
       "      <td>http://ns.inria.fr/covid19/6c40c8719f31e55314e...</td>\n",
       "      <td>Proteases are candidate biomarkers and therape...</td>\n",
       "      <td>We hypothesized that a combinatorial protease ...</td>\n",
       "      <td>[a_combinatorial_protease_substrate_library, s...</td>\n",
       "      <td>[a combinatorial protease substrate library, s...</td>\n",
<<<<<<< HEAD
=======
       "      <td>a combinatorial protease substrate library</td>\n",
       "      <td>...</td>\n",
       "      <td></td>\n",
       "      <td></td>\n",
       "      <td></td>\n",
       "      <td></td>\n",
       "      <td></td>\n",
       "      <td></td>\n",
       "      <td></td>\n",
       "      <td></td>\n",
       "      <td></td>\n",
       "      <td></td>\n",
>>>>>>> ec6da02dc33ad8113e3861179ee53c5401245116
       "    </tr>\n",
       "    <tr>\n",
       "      <th>4</th>\n",
       "      <td>http://ns.inria.fr/covid19/bb5d7caba7ff8afec3c...</td>\n",
       "      <td>http://purl.org/ontology/bibo/AcademicArticle,...</td>\n",
       "      <td>http://example.org/hypothesis_ontology/PMC6116...</td>\n",
       "      <td>PMC6116215</td>\n",
       "      <td>http://ns.inria.fr/covid19/bb5d7caba7ff8afec3c...</td>\n",
       "      <td>A disease with a sudden drop in egg production...</td>\n",
       "      <td>We hypothesize that SES is caused by an infect...</td>\n",
       "      <td>[SES, bronchitis, virus, IBV, IBV, the_shell_g...</td>\n",
       "      <td>[SES, bronchitis, virus, IBV, IBV, the shell g...</td>\n",
<<<<<<< HEAD
=======
       "      <td>SES</td>\n",
       "      <td>...</td>\n",
       "      <td></td>\n",
       "      <td></td>\n",
       "      <td></td>\n",
       "      <td></td>\n",
       "      <td></td>\n",
       "      <td></td>\n",
       "      <td></td>\n",
       "      <td></td>\n",
       "      <td></td>\n",
       "      <td></td>\n",
>>>>>>> ec6da02dc33ad8113e3861179ee53c5401245116
       "    </tr>\n",
       "    <tr>\n",
       "      <th>...</th>\n",
       "      <td>...</td>\n",
       "      <td>...</td>\n",
       "      <td>...</td>\n",
       "      <td>...</td>\n",
       "      <td>...</td>\n",
       "      <td>...</td>\n",
       "      <td>...</td>\n",
       "      <td>...</td>\n",
       "      <td>...</td>\n",
<<<<<<< HEAD
       "    </tr>\n",
       "    <tr>\n",
       "      <th>926</th>\n",
=======
       "      <td>...</td>\n",
       "      <td>...</td>\n",
       "      <td>...</td>\n",
       "      <td>...</td>\n",
       "      <td>...</td>\n",
       "      <td>...</td>\n",
       "      <td>...</td>\n",
       "      <td>...</td>\n",
       "      <td>...</td>\n",
       "      <td>...</td>\n",
       "      <td>...</td>\n",
       "      <td>...</td>\n",
       "    </tr>\n",
       "    <tr>\n",
       "      <th>835</th>\n",
>>>>>>> ec6da02dc33ad8113e3861179ee53c5401245116
       "      <td>http://ns.inria.fr/covid19/bd4256a18c93af80751...</td>\n",
       "      <td>http://purl.org/ontology/bibo/AcademicArticle,...</td>\n",
       "      <td>http://example.org/hypothesis_ontology/bd4256a...</td>\n",
       "      <td>NaN</td>\n",
       "      <td>http://ns.inria.fr/covid19/bd4256a18c93af80751...</td>\n",
       "      <td>Publisher Summary Molecular tools enhance outb...</td>\n",
       "      <td>Molecular tools enable one to trace the dissem...</td>\n",
       "      <td>[Molecular_tools, a_particular_subtype, time, ...</td>\n",
       "      <td>[Molecular tools, a particular subtype, time, ...</td>\n",
<<<<<<< HEAD
       "    </tr>\n",
       "    <tr>\n",
       "      <th>927</th>\n",
=======
       "      <td>Molecular tools</td>\n",
       "      <td>...</td>\n",
       "      <td>mobile genetic elements conferring antimicrobi...</td>\n",
       "      <td>virulence</td>\n",
       "      <td>strains</td>\n",
       "      <td>a species</td>\n",
       "      <td>species</td>\n",
       "      <td>theories</td>\n",
       "      <td>evolution</td>\n",
       "      <td>transmission</td>\n",
       "      <td>the populations</td>\n",
       "      <td>pathogens</td>\n",
       "    </tr>\n",
       "    <tr>\n",
       "      <th>836</th>\n",
>>>>>>> ec6da02dc33ad8113e3861179ee53c5401245116
       "      <td>http://ns.inria.fr/covid19/b9a8782661a61d1562b...</td>\n",
       "      <td>http://purl.org/ontology/bibo/AcademicArticle,...</td>\n",
       "      <td>http://example.org/hypothesis_ontology/PMC3410...</td>\n",
       "      <td>PMC3410596</td>\n",
       "      <td>http://ns.inria.fr/covid19/b9a8782661a61d1562b...</td>\n",
       "      <td>Our understanding of how antibodies are genera...</td>\n",
       "      <td>We previously hypothesized that HIV-1 could ha...</td>\n",
       "      <td>[HIV-1, a_strategy, the_immune_system, germlin...</td>\n",
       "      <td>[HIV-1, a strategy, the immune system, germlin...</td>\n",
<<<<<<< HEAD
       "    </tr>\n",
       "    <tr>\n",
       "      <th>928</th>\n",
=======
       "      <td>HIV-1</td>\n",
       "      <td>...</td>\n",
       "      <td></td>\n",
       "      <td></td>\n",
       "      <td></td>\n",
       "      <td></td>\n",
       "      <td></td>\n",
       "      <td></td>\n",
       "      <td></td>\n",
       "      <td></td>\n",
       "      <td></td>\n",
       "      <td></td>\n",
       "    </tr>\n",
       "    <tr>\n",
       "      <th>837</th>\n",
>>>>>>> ec6da02dc33ad8113e3861179ee53c5401245116
       "      <td>http://ns.inria.fr/covid19/0cfbd799dde9aedd35a...</td>\n",
       "      <td>http://purl.org/ontology/bibo/AcademicArticle,...</td>\n",
       "      <td>http://example.org/hypothesis_ontology/PMC5819...</td>\n",
       "      <td>PMC5819196</td>\n",
       "      <td>http://ns.inria.fr/covid19/0cfbd799dde9aedd35a...</td>\n",
       "      <td>BACKGROUND: Recurrent acute otitis media (rAOM...</td>\n",
       "      <td>We hypothesised that healthy children with no ...</td>\n",
       "      <td>[that_healthy_children, no_history, AOM, prote...</td>\n",
       "      <td>[that healthy children, no history, AOM, prote...</td>\n",
<<<<<<< HEAD
       "    </tr>\n",
       "    <tr>\n",
       "      <th>929</th>\n",
=======
       "      <td>that healthy children</td>\n",
       "      <td>...</td>\n",
       "      <td></td>\n",
       "      <td></td>\n",
       "      <td></td>\n",
       "      <td></td>\n",
       "      <td></td>\n",
       "      <td></td>\n",
       "      <td></td>\n",
       "      <td></td>\n",
       "      <td></td>\n",
       "      <td></td>\n",
       "    </tr>\n",
       "    <tr>\n",
       "      <th>838</th>\n",
>>>>>>> ec6da02dc33ad8113e3861179ee53c5401245116
       "      <td>http://ns.inria.fr/covid19/f5f53c6d9a31095c447...</td>\n",
       "      <td>http://purl.org/ontology/bibo/AcademicArticle,...</td>\n",
       "      <td>http://example.org/hypothesis_ontology/PMC3080...</td>\n",
       "      <td>PMC3080791</td>\n",
       "      <td>http://ns.inria.fr/covid19/f5f53c6d9a31095c447...</td>\n",
       "      <td>BACKGROUND: The envelope glycoprotein of lymph...</td>\n",
       "      <td>We hypothesized that this change would alter i...</td>\n",
       "      <td>[vivo, tissue_tropism, gene_transfer, neonatal...</td>\n",
       "      <td>[vivo, tissue tropism, gene transfer, neonatal...</td>\n",
<<<<<<< HEAD
       "    </tr>\n",
       "    <tr>\n",
       "      <th>930</th>\n",
=======
       "      <td>vivo</td>\n",
       "      <td>...</td>\n",
       "      <td></td>\n",
       "      <td></td>\n",
       "      <td></td>\n",
       "      <td></td>\n",
       "      <td></td>\n",
       "      <td></td>\n",
       "      <td></td>\n",
       "      <td></td>\n",
       "      <td></td>\n",
       "      <td></td>\n",
       "    </tr>\n",
       "    <tr>\n",
       "      <th>839</th>\n",
>>>>>>> ec6da02dc33ad8113e3861179ee53c5401245116
       "      <td>http://ns.inria.fr/covid19/d2c536058f4f78ea008...</td>\n",
       "      <td>http://purl.org/ontology/bibo/AcademicArticle,...</td>\n",
       "      <td>http://example.org/hypothesis_ontology/PMC4542...</td>\n",
       "      <td>PMC4542197</td>\n",
       "      <td>http://ns.inria.fr/covid19/d2c536058f4f78ea008...</td>\n",
       "      <td>The 1977-1978 influenza epidemic was probably ...</td>\n",
       "      <td>While there are several hypotheses that could ...</td>\n",
       "      <td>[several_hypotheses, its_origin, the_possibili...</td>\n",
       "      <td>[several hypotheses, its origin, the possibili...</td>\n",
<<<<<<< HEAD
       "    </tr>\n",
       "  </tbody>\n",
       "</table>\n",
       "<p>840 rows × 9 columns</p>\n",
=======
       "      <td>several hypotheses</td>\n",
       "      <td>...</td>\n",
       "      <td></td>\n",
       "      <td></td>\n",
       "      <td></td>\n",
       "      <td></td>\n",
       "      <td></td>\n",
       "      <td></td>\n",
       "      <td></td>\n",
       "      <td></td>\n",
       "      <td></td>\n",
       "      <td></td>\n",
       "    </tr>\n",
       "  </tbody>\n",
       "</table>\n",
       "<p>840 rows × 40 columns</p>\n",
>>>>>>> ec6da02dc33ad8113e3861179ee53c5401245116
       "</div>"
      ],
      "text/plain": [
       "                                                 paper  \\\n",
       "0    http://ns.inria.fr/covid19/77eb2dc4442518f5757...   \n",
       "1    http://ns.inria.fr/covid19/180c88b68816bbb6eb5...   \n",
       "2    http://ns.inria.fr/covid19/319c4a09c5862d35692...   \n",
       "3    http://ns.inria.fr/covid19/6c40c8719f31e55314e...   \n",
       "4    http://ns.inria.fr/covid19/bb5d7caba7ff8afec3c...   \n",
       "..                                                 ...   \n",
<<<<<<< HEAD
       "926  http://ns.inria.fr/covid19/bd4256a18c93af80751...   \n",
       "927  http://ns.inria.fr/covid19/b9a8782661a61d1562b...   \n",
       "928  http://ns.inria.fr/covid19/0cfbd799dde9aedd35a...   \n",
       "929  http://ns.inria.fr/covid19/f5f53c6d9a31095c447...   \n",
       "930  http://ns.inria.fr/covid19/d2c536058f4f78ea008...   \n",
=======
       "835  http://ns.inria.fr/covid19/bd4256a18c93af80751...   \n",
       "836  http://ns.inria.fr/covid19/b9a8782661a61d1562b...   \n",
       "837  http://ns.inria.fr/covid19/0cfbd799dde9aedd35a...   \n",
       "838  http://ns.inria.fr/covid19/f5f53c6d9a31095c447...   \n",
       "839  http://ns.inria.fr/covid19/d2c536058f4f78ea008...   \n",
>>>>>>> ec6da02dc33ad8113e3861179ee53c5401245116
       "\n",
       "                                         article_types  \\\n",
       "0    http://purl.org/ontology/bibo/AcademicArticle,...   \n",
       "1    http://purl.org/ontology/bibo/AcademicArticle,...   \n",
       "2    http://purl.org/ontology/bibo/AcademicArticle,...   \n",
       "3    http://purl.org/ontology/bibo/AcademicArticle,...   \n",
       "4    http://purl.org/ontology/bibo/AcademicArticle,...   \n",
       "..                                                 ...   \n",
<<<<<<< HEAD
       "926  http://purl.org/ontology/bibo/AcademicArticle,...   \n",
       "927  http://purl.org/ontology/bibo/AcademicArticle,...   \n",
       "928  http://purl.org/ontology/bibo/AcademicArticle,...   \n",
       "929  http://purl.org/ontology/bibo/AcademicArticle,...   \n",
       "930  http://purl.org/ontology/bibo/AcademicArticle,...   \n",
=======
       "835  http://purl.org/ontology/bibo/AcademicArticle,...   \n",
       "836  http://purl.org/ontology/bibo/AcademicArticle,...   \n",
       "837  http://purl.org/ontology/bibo/AcademicArticle,...   \n",
       "838  http://purl.org/ontology/bibo/AcademicArticle,...   \n",
       "839  http://purl.org/ontology/bibo/AcademicArticle,...   \n",
>>>>>>> ec6da02dc33ad8113e3861179ee53c5401245116
       "\n",
       "                                                new_id pm_central_id  \\\n",
       "0    http://example.org/hypothesis_ontology/77eb2dc...           NaN   \n",
       "1    http://example.org/hypothesis_ontology/180c88b...           NaN   \n",
       "2    http://example.org/hypothesis_ontology/319c4a0...           NaN   \n",
       "3    http://example.org/hypothesis_ontology/PMC3159...    PMC3159512   \n",
       "4    http://example.org/hypothesis_ontology/PMC6116...    PMC6116215   \n",
       "..                                                 ...           ...   \n",
<<<<<<< HEAD
       "926  http://example.org/hypothesis_ontology/bd4256a...           NaN   \n",
       "927  http://example.org/hypothesis_ontology/PMC3410...    PMC3410596   \n",
       "928  http://example.org/hypothesis_ontology/PMC5819...    PMC5819196   \n",
       "929  http://example.org/hypothesis_ontology/PMC3080...    PMC3080791   \n",
       "930  http://example.org/hypothesis_ontology/PMC4542...    PMC4542197   \n",
=======
       "835  http://example.org/hypothesis_ontology/bd4256a...           NaN   \n",
       "836  http://example.org/hypothesis_ontology/PMC3410...    PMC3410596   \n",
       "837  http://example.org/hypothesis_ontology/PMC5819...    PMC5819196   \n",
       "838  http://example.org/hypothesis_ontology/PMC3080...    PMC3080791   \n",
       "839  http://example.org/hypothesis_ontology/PMC4542...    PMC4542197   \n",
>>>>>>> ec6da02dc33ad8113e3861179ee53c5401245116
       "\n",
       "                                              abstract  \\\n",
       "0    http://ns.inria.fr/covid19/77eb2dc4442518f5757...   \n",
       "1    http://ns.inria.fr/covid19/180c88b68816bbb6eb5...   \n",
       "2    http://ns.inria.fr/covid19/319c4a09c5862d35692...   \n",
       "3    http://ns.inria.fr/covid19/6c40c8719f31e55314e...   \n",
       "4    http://ns.inria.fr/covid19/bb5d7caba7ff8afec3c...   \n",
       "..                                                 ...   \n",
<<<<<<< HEAD
       "926  http://ns.inria.fr/covid19/bd4256a18c93af80751...   \n",
       "927  http://ns.inria.fr/covid19/b9a8782661a61d1562b...   \n",
       "928  http://ns.inria.fr/covid19/0cfbd799dde9aedd35a...   \n",
       "929  http://ns.inria.fr/covid19/f5f53c6d9a31095c447...   \n",
       "930  http://ns.inria.fr/covid19/d2c536058f4f78ea008...   \n",
=======
       "835  http://ns.inria.fr/covid19/bd4256a18c93af80751...   \n",
       "836  http://ns.inria.fr/covid19/b9a8782661a61d1562b...   \n",
       "837  http://ns.inria.fr/covid19/0cfbd799dde9aedd35a...   \n",
       "838  http://ns.inria.fr/covid19/f5f53c6d9a31095c447...   \n",
       "839  http://ns.inria.fr/covid19/d2c536058f4f78ea008...   \n",
>>>>>>> ec6da02dc33ad8113e3861179ee53c5401245116
       "\n",
       "                                                 value  \\\n",
       "0    Summary The network theory of autoimmunity is ...   \n",
       "1    AbstractE-probe Diagnostic for Nucleic acid An...   \n",
       "2    Abstract. The nasal decongestant oxymetazoline...   \n",
       "3    Proteases are candidate biomarkers and therape...   \n",
       "4    A disease with a sudden drop in egg production...   \n",
       "..                                                 ...   \n",
<<<<<<< HEAD
       "926  Publisher Summary Molecular tools enhance outb...   \n",
       "927  Our understanding of how antibodies are genera...   \n",
       "928  BACKGROUND: Recurrent acute otitis media (rAOM...   \n",
       "929  BACKGROUND: The envelope glycoprotein of lymph...   \n",
       "930  The 1977-1978 influenza epidemic was probably ...   \n",
=======
       "835  Publisher Summary Molecular tools enhance outb...   \n",
       "836  Our understanding of how antibodies are genera...   \n",
       "837  BACKGROUND: Recurrent acute otitis media (rAOM...   \n",
       "838  BACKGROUND: The envelope glycoprotein of lymph...   \n",
       "839  The 1977-1978 influenza epidemic was probably ...   \n",
>>>>>>> ec6da02dc33ad8113e3861179ee53c5401245116
       "\n",
       "                                   hypothesis_sentence  \\\n",
       "0    Based on this hypothesis, a T-cell vaccination...   \n",
       "1    However, enhancements made to EDNA increased i...   \n",
       "2    In a follow up study, we hypothesized that OMZ...   \n",
       "3    We hypothesized that a combinatorial protease ...   \n",
       "4    We hypothesize that SES is caused by an infect...   \n",
       "..                                                 ...   \n",
<<<<<<< HEAD
       "926  Molecular tools enable one to trace the dissem...   \n",
       "927  We previously hypothesized that HIV-1 could ha...   \n",
       "928  We hypothesised that healthy children with no ...   \n",
       "929  We hypothesized that this change would alter i...   \n",
       "930  While there are several hypotheses that could ...   \n",
=======
       "835  Molecular tools enable one to trace the dissem...   \n",
       "836  We previously hypothesized that HIV-1 could ha...   \n",
       "837  We hypothesised that healthy children with no ...   \n",
       "838  We hypothesized that this change would alter i...   \n",
       "839  While there are several hypotheses that could ...   \n",
>>>>>>> ec6da02dc33ad8113e3861179ee53c5401245116
       "\n",
       "                                   hypothesis_entities  \\\n",
       "0    [this_hypothesis, effector_T_cells, autoimmuno...   \n",
       "1    [However , enhancements, EDNA, increased its_c...   \n",
       "2    [OMZ, pro-resolving_lipoxins, production, immu...   \n",
       "3    [a_combinatorial_protease_substrate_library, s...   \n",
       "4    [SES, bronchitis, virus, IBV, IBV, the_shell_g...   \n",
       "..                                                 ...   \n",
<<<<<<< HEAD
       "926  [Molecular_tools, a_particular_subtype, time, ...   \n",
       "927  [HIV-1, a_strategy, the_immune_system, germlin...   \n",
       "928  [that_healthy_children, no_history, AOM, prote...   \n",
       "929  [vivo, tissue_tropism, gene_transfer, neonatal...   \n",
       "930  [several_hypotheses, its_origin, the_possibili...   \n",
       "\n",
       "                             clean_hypothesis_entities  \n",
       "0    [this hypothesis, effector T cells, autoimmuno...  \n",
       "1    [However , enhancements, EDNA, increased its c...  \n",
       "2    [OMZ, pro-resolving lipoxins, production, immu...  \n",
       "3    [a combinatorial protease substrate library, s...  \n",
       "4    [SES, bronchitis, virus, IBV, IBV, the shell g...  \n",
       "..                                                 ...  \n",
       "926  [Molecular tools, a particular subtype, time, ...  \n",
       "927  [HIV-1, a strategy, the immune system, germlin...  \n",
       "928  [that healthy children, no history, AOM, prote...  \n",
       "929  [vivo, tissue tropism, gene transfer, neonatal...  \n",
       "930  [several hypotheses, its origin, the possibili...  \n",
       "\n",
       "[840 rows x 9 columns]"
      ]
     },
     "execution_count": 17,
=======
       "835  [Molecular_tools, a_particular_subtype, time, ...   \n",
       "836  [HIV-1, a_strategy, the_immune_system, germlin...   \n",
       "837  [that_healthy_children, no_history, AOM, prote...   \n",
       "838  [vivo, tissue_tropism, gene_transfer, neonatal...   \n",
       "839  [several_hypotheses, its_origin, the_possibili...   \n",
       "\n",
       "                             clean_hypothesis_entities  \\\n",
       "0    [this hypothesis, effector T cells, autoimmuno...   \n",
       "1    [However , enhancements, EDNA, increased its c...   \n",
       "2    [OMZ, pro-resolving lipoxins, production, immu...   \n",
       "3    [a combinatorial protease substrate library, s...   \n",
       "4    [SES, bronchitis, virus, IBV, IBV, the shell g...   \n",
       "..                                                 ...   \n",
       "835  [Molecular tools, a particular subtype, time, ...   \n",
       "836  [HIV-1, a strategy, the immune system, germlin...   \n",
       "837  [that healthy children, no history, AOM, prote...   \n",
       "838  [vivo, tissue tropism, gene transfer, neonatal...   \n",
       "839  [several hypotheses, its origin, the possibili...   \n",
       "\n",
       "                                       entity_1  ...  \\\n",
       "0                               this hypothesis  ...   \n",
       "1                        However , enhancements  ...   \n",
       "2                                           OMZ  ...   \n",
       "3    a combinatorial protease substrate library  ...   \n",
       "4                                           SES  ...   \n",
       "..                                          ...  ...   \n",
       "835                             Molecular tools  ...   \n",
       "836                                       HIV-1  ...   \n",
       "837                       that healthy children  ...   \n",
       "838                                        vivo  ...   \n",
       "839                          several hypotheses  ...   \n",
       "\n",
       "                                             entity_22  entity_23 entity_24  \\\n",
       "0                                                                             \n",
       "1                                                                             \n",
       "2                                                                             \n",
       "3                                                                             \n",
       "4                                                                             \n",
       "..                                                 ...        ...       ...   \n",
       "835  mobile genetic elements conferring antimicrobi...  virulence   strains   \n",
       "836                                                                           \n",
       "837                                                                           \n",
       "838                                                                           \n",
       "839                                                                           \n",
       "\n",
       "     entity_25 entity_26 entity_27  entity_28     entity_29        entity_30  \\\n",
       "0                                                                              \n",
       "1                                                                              \n",
       "2                                                                              \n",
       "3                                                                              \n",
       "4                                                                              \n",
       "..         ...       ...       ...        ...           ...              ...   \n",
       "835  a species   species  theories  evolution  transmission  the populations   \n",
       "836                                                                            \n",
       "837                                                                            \n",
       "838                                                                            \n",
       "839                                                                            \n",
       "\n",
       "     entity_31  \n",
       "0               \n",
       "1               \n",
       "2               \n",
       "3               \n",
       "4               \n",
       "..         ...  \n",
       "835  pathogens  \n",
       "836             \n",
       "837             \n",
       "838             \n",
       "839             \n",
       "\n",
       "[840 rows x 40 columns]"
      ]
     },
     "execution_count": 30,
>>>>>>> ec6da02dc33ad8113e3861179ee53c5401245116
     "metadata": {},
     "output_type": "execute_result"
    }
   ],
   "source": [
<<<<<<< HEAD
    "data"
   ]
  },
  {
   "cell_type": "code",
   "execution_count": null,
   "metadata": {},
   "outputs": [],
   "source": [
    "f = lambda x: 'entity_{}'.format(x + 1)\n",
    "entity_df = pd.DataFrame(data.clean_hypothesis_entities.values.tolist(),data.index, dtype=object).fillna('').rename(columns=f)"
   ]
  },
  {
   "cell_type": "code",
   "execution_count": null,
   "metadata": {},
   "outputs": [],
   "source": [
    "data = data.reset_index(drop=True)\n",
    "entity_df = entity_df.reset_index(drop=True)"
   ]
  },
  {
   "cell_type": "code",
   "execution_count": null,
   "metadata": {},
   "outputs": [],
   "source": [
    "merged_data = (pd.concat([data,entity_df],axis=1))"
   ]
  },
  {
   "cell_type": "code",
   "execution_count": null,
   "metadata": {
    "scrolled": true
   },
   "outputs": [],
   "source": [
=======
>>>>>>> ec6da02dc33ad8113e3861179ee53c5401245116
    "merged_data"
   ]
  },
  {
   "cell_type": "code",
   "execution_count": null,
   "metadata": {},
   "outputs": [],
   "source": [
    "merged_data.to_csv('paper_hyp_entity_data.csv', index=False)"
   ]
  }
 ],
 "metadata": {
  "kernelspec": {
   "display_name": "Python 3",
   "language": "python",
   "name": "python3"
  },
  "language_info": {
   "codemirror_mode": {
    "name": "ipython",
    "version": 3
   },
   "file_extension": ".py",
   "mimetype": "text/x-python",
   "name": "python",
   "nbconvert_exporter": "python",
   "pygments_lexer": "ipython3",
   "version": "3.7.6"
  }
 },
 "nbformat": 4,
 "nbformat_minor": 4
}
